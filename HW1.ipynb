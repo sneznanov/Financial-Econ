{
 "cells": [
  {
   "cell_type": "markdown",
   "id": "90c82b5c",
   "metadata": {},
   "source": [
    "# Homework 1 "
   ]
  },
  {
   "cell_type": "markdown",
   "id": "8f9b5680",
   "metadata": {},
   "source": [
    "### 16:220:630:01 FINANCIAL ECON I"
   ]
  },
  {
   "cell_type": "markdown",
   "id": "f593ce77",
   "metadata": {},
   "source": [
    "### Team C - Sergei Neznanov, Ruoping Li, Xichen Kong"
   ]
  },
  {
   "cell_type": "code",
   "execution_count": 1,
   "id": "760a941d",
   "metadata": {},
   "outputs": [],
   "source": [
    "import pandas as pd\n",
    "from datetime import datetime\n",
    "import numpy as np\n",
    "import matplotlib.pyplot as plt\n",
    "import matplotlib.ticker as mtick\n",
    "from matplotlib.ticker import FuncFormatter\n",
    "import re\n",
    "import json\n",
    "import time\n",
    "import sqlite3\n",
    "import os\n",
    "import gc\n",
    "import networkx as nx\n",
    "import urllib.request\n",
    "from itertools import chain\n",
    "from openpyxl import load_workbook\n",
    "from collections import Counter"
   ]
  },
  {
   "cell_type": "code",
   "execution_count": null,
   "id": "b047d02a",
   "metadata": {},
   "outputs": [],
   "source": [
    "pip install pyarrow"
   ]
  },
  {
   "cell_type": "code",
   "execution_count": null,
   "id": "4f5aa3cc",
   "metadata": {},
   "outputs": [],
   "source": [
    "pip install fastparquet"
   ]
  },
  {
   "cell_type": "markdown",
   "id": "8cadd865",
   "metadata": {},
   "source": [
    "# Question 1"
   ]
  },
  {
   "cell_type": "markdown",
   "id": "5a072b44",
   "metadata": {},
   "source": [
    "Import the data sets for the two days, and the prices:"
   ]
  },
  {
   "cell_type": "code",
   "execution_count": 4,
   "id": "fc6b1853",
   "metadata": {},
   "outputs": [
    {
     "data": {
      "text/html": [
       "<div>\n",
       "<style scoped>\n",
       "    .dataframe tbody tr th:only-of-type {\n",
       "        vertical-align: middle;\n",
       "    }\n",
       "\n",
       "    .dataframe tbody tr th {\n",
       "        vertical-align: top;\n",
       "    }\n",
       "\n",
       "    .dataframe thead th {\n",
       "        text-align: right;\n",
       "    }\n",
       "</style>\n",
       "<table border=\"1\" class=\"dataframe\">\n",
       "  <thead>\n",
       "    <tr style=\"text-align: right;\">\n",
       "      <th></th>\n",
       "      <th>block_number</th>\n",
       "      <th>block_timestamp</th>\n",
       "      <th>transaction_hash</th>\n",
       "      <th>transaction_from_address</th>\n",
       "      <th>transaction_to_address</th>\n",
       "      <th>value</th>\n",
       "      <th>receipt_gas_used</th>\n",
       "      <th>token_address</th>\n",
       "      <th>token_from_address</th>\n",
       "      <th>token_to_address</th>\n",
       "      <th>token_value</th>\n",
       "      <th>gas_price</th>\n",
       "    </tr>\n",
       "  </thead>\n",
       "  <tbody>\n",
       "    <tr>\n",
       "      <th>0</th>\n",
       "      <td>15053226</td>\n",
       "      <td>2022-07-01 00:00:00</td>\n",
       "      <td>0x079f98b161166793d2ff41658df69b46625aaf4d2b0bbe13302be7621188f50c</td>\n",
       "      <td>0x46340b20830761efd32832a74d7169b29feb9758</td>\n",
       "      <td>0xdac17f958d2ee523a2206206994597c13d831ec7</td>\n",
       "      <td>0</td>\n",
       "      <td>63209</td>\n",
       "      <td>0xdac17f958d2ee523a2206206994597c13d831ec7</td>\n",
       "      <td>0x46340b20830761efd32832a74d7169b29feb9758</td>\n",
       "      <td>0xd09bba872766ae15fd1eb809659da0d6d937d1e2</td>\n",
       "      <td>2699887308</td>\n",
       "      <td>97937421069</td>\n",
       "    </tr>\n",
       "    <tr>\n",
       "      <th>1</th>\n",
       "      <td>15053226</td>\n",
       "      <td>2022-07-01 00:00:00</td>\n",
       "      <td>0x0bf8725a901d0e80e1e71380ae5d256c4041792d98db447ebc3af30ec879fac5</td>\n",
       "      <td>0xf85642d2e867b122f0e1b250c5281b1ef6b26a27</td>\n",
       "      <td>0xdef1c0ded9bec7f1a1670819833240f027b25eff</td>\n",
       "      <td>0</td>\n",
       "      <td>371568</td>\n",
       "      <td>0x2260fac5e5542a773aa44fbcfedf7c193bc2c599</td>\n",
       "      <td>0xcbfb0745b8489973bf7b334d54fdbd573df7ef3c</td>\n",
       "      <td>0xdef1c0ded9bec7f1a1670819833240f027b25eff</td>\n",
       "      <td>22754633</td>\n",
       "      <td>55353921033</td>\n",
       "    </tr>\n",
       "    <tr>\n",
       "      <th>2</th>\n",
       "      <td>15053226</td>\n",
       "      <td>2022-07-01 00:00:00</td>\n",
       "      <td>0x0bf8725a901d0e80e1e71380ae5d256c4041792d98db447ebc3af30ec879fac5</td>\n",
       "      <td>0xf85642d2e867b122f0e1b250c5281b1ef6b26a27</td>\n",
       "      <td>0xdef1c0ded9bec7f1a1670819833240f027b25eff</td>\n",
       "      <td>0</td>\n",
       "      <td>371568</td>\n",
       "      <td>0xa0b86991c6218b36c1d19d4a2e9eb0ce3606eb48</td>\n",
       "      <td>0xf85642d2e867b122f0e1b250c5281b1ef6b26a27</td>\n",
       "      <td>0xcbfb0745b8489973bf7b334d54fdbd573df7ef3c</td>\n",
       "      <td>4500000000</td>\n",
       "      <td>55353921033</td>\n",
       "    </tr>\n",
       "  </tbody>\n",
       "</table>\n",
       "</div>"
      ],
      "text/plain": [
       "   block_number      block_timestamp  \\\n",
       "0      15053226  2022-07-01 00:00:00   \n",
       "1      15053226  2022-07-01 00:00:00   \n",
       "2      15053226  2022-07-01 00:00:00   \n",
       "\n",
       "                                                     transaction_hash  \\\n",
       "0  0x079f98b161166793d2ff41658df69b46625aaf4d2b0bbe13302be7621188f50c   \n",
       "1  0x0bf8725a901d0e80e1e71380ae5d256c4041792d98db447ebc3af30ec879fac5   \n",
       "2  0x0bf8725a901d0e80e1e71380ae5d256c4041792d98db447ebc3af30ec879fac5   \n",
       "\n",
       "                     transaction_from_address  \\\n",
       "0  0x46340b20830761efd32832a74d7169b29feb9758   \n",
       "1  0xf85642d2e867b122f0e1b250c5281b1ef6b26a27   \n",
       "2  0xf85642d2e867b122f0e1b250c5281b1ef6b26a27   \n",
       "\n",
       "                       transaction_to_address  value  receipt_gas_used  \\\n",
       "0  0xdac17f958d2ee523a2206206994597c13d831ec7      0             63209   \n",
       "1  0xdef1c0ded9bec7f1a1670819833240f027b25eff      0            371568   \n",
       "2  0xdef1c0ded9bec7f1a1670819833240f027b25eff      0            371568   \n",
       "\n",
       "                                token_address  \\\n",
       "0  0xdac17f958d2ee523a2206206994597c13d831ec7   \n",
       "1  0x2260fac5e5542a773aa44fbcfedf7c193bc2c599   \n",
       "2  0xa0b86991c6218b36c1d19d4a2e9eb0ce3606eb48   \n",
       "\n",
       "                           token_from_address  \\\n",
       "0  0x46340b20830761efd32832a74d7169b29feb9758   \n",
       "1  0xcbfb0745b8489973bf7b334d54fdbd573df7ef3c   \n",
       "2  0xf85642d2e867b122f0e1b250c5281b1ef6b26a27   \n",
       "\n",
       "                             token_to_address token_value    gas_price  \n",
       "0  0xd09bba872766ae15fd1eb809659da0d6d937d1e2  2699887308  97937421069  \n",
       "1  0xdef1c0ded9bec7f1a1670819833240f027b25eff    22754633  55353921033  \n",
       "2  0xcbfb0745b8489973bf7b334d54fdbd573df7ef3c  4500000000  55353921033  "
      ]
     },
     "execution_count": 4,
     "metadata": {},
     "output_type": "execute_result"
    }
   ],
   "source": [
    "pd.set_option('display.max_colwidth', None)\n",
    "infile='trans_tokens_20220701.parquet'\n",
    "ether_df=pd.read_parquet(infile)\n",
    "ether_df.head(3)"
   ]
  },
  {
   "cell_type": "code",
   "execution_count": 5,
   "id": "0f02fd7c",
   "metadata": {},
   "outputs": [
    {
     "data": {
      "text/html": [
       "<div>\n",
       "<style scoped>\n",
       "    .dataframe tbody tr th:only-of-type {\n",
       "        vertical-align: middle;\n",
       "    }\n",
       "\n",
       "    .dataframe tbody tr th {\n",
       "        vertical-align: top;\n",
       "    }\n",
       "\n",
       "    .dataframe thead th {\n",
       "        text-align: right;\n",
       "    }\n",
       "</style>\n",
       "<table border=\"1\" class=\"dataframe\">\n",
       "  <thead>\n",
       "    <tr style=\"text-align: right;\">\n",
       "      <th></th>\n",
       "      <th>block_number</th>\n",
       "      <th>block_timestamp</th>\n",
       "      <th>transaction_hash</th>\n",
       "      <th>transaction_from_address</th>\n",
       "      <th>transaction_to_address</th>\n",
       "      <th>value</th>\n",
       "      <th>receipt_gas_used</th>\n",
       "      <th>token_address</th>\n",
       "      <th>token_from_address</th>\n",
       "      <th>token_to_address</th>\n",
       "      <th>token_value</th>\n",
       "      <th>gas_price</th>\n",
       "    </tr>\n",
       "  </thead>\n",
       "  <tbody>\n",
       "    <tr>\n",
       "      <th>0</th>\n",
       "      <td>15059681</td>\n",
       "      <td>2022-07-02 00:00:38</td>\n",
       "      <td>0x016cf028d18b86a01c43891692400dad8e71a94ff82716c3a0a165eaf9d13039</td>\n",
       "      <td>0x89e51fa8ca5d66cd220baed62ed01e8951aa7c40</td>\n",
       "      <td>0xdac17f958d2ee523a2206206994597c13d831ec7</td>\n",
       "      <td>0</td>\n",
       "      <td>63209</td>\n",
       "      <td>0xdac17f958d2ee523a2206206994597c13d831ec7</td>\n",
       "      <td>0x89e51fa8ca5d66cd220baed62ed01e8951aa7c40</td>\n",
       "      <td>0x873610638e4f80cb62ac45626fbb7c624b7eaca2</td>\n",
       "      <td>116472200</td>\n",
       "      <td>17354350667</td>\n",
       "    </tr>\n",
       "    <tr>\n",
       "      <th>1</th>\n",
       "      <td>15059681</td>\n",
       "      <td>2022-07-02 00:00:38</td>\n",
       "      <td>0x02abeca2f5f6078c54720e65c7df434ca505719e9144789cca93f2145702df3a</td>\n",
       "      <td>0xae2d4617c862309a3d75a0ffb358c7a5009c673f</td>\n",
       "      <td>0xa24787320ede4cc19d800bf87b41ab9539c4da9d</td>\n",
       "      <td>0</td>\n",
       "      <td>71351</td>\n",
       "      <td>0xa0b86991c6218b36c1d19d4a2e9eb0ce3606eb48</td>\n",
       "      <td>0x11c0e4d79f48ce81fbbc69f635e8338afed8c82f</td>\n",
       "      <td>0xae2d4617c862309a3d75a0ffb358c7a5009c673f</td>\n",
       "      <td>100000000000</td>\n",
       "      <td>17354350667</td>\n",
       "    </tr>\n",
       "    <tr>\n",
       "      <th>2</th>\n",
       "      <td>15059681</td>\n",
       "      <td>2022-07-02 00:00:38</td>\n",
       "      <td>0x03abf44b5abc4d243d4685d1d2afddc119d9cd977c7acac2dde8526e8212781d</td>\n",
       "      <td>0x1c2ddd05017d2a4bef1a69220b8aa0f9d1c09725</td>\n",
       "      <td>0xdac17f958d2ee523a2206206994597c13d831ec7</td>\n",
       "      <td>0</td>\n",
       "      <td>41321</td>\n",
       "      <td>0xdac17f958d2ee523a2206206994597c13d831ec7</td>\n",
       "      <td>0x1c2ddd05017d2a4bef1a69220b8aa0f9d1c09725</td>\n",
       "      <td>0x28c6c06298d514db089934071355e5743bf21d60</td>\n",
       "      <td>7255072992</td>\n",
       "      <td>17354350667</td>\n",
       "    </tr>\n",
       "  </tbody>\n",
       "</table>\n",
       "</div>"
      ],
      "text/plain": [
       "   block_number      block_timestamp  \\\n",
       "0      15059681  2022-07-02 00:00:38   \n",
       "1      15059681  2022-07-02 00:00:38   \n",
       "2      15059681  2022-07-02 00:00:38   \n",
       "\n",
       "                                                     transaction_hash  \\\n",
       "0  0x016cf028d18b86a01c43891692400dad8e71a94ff82716c3a0a165eaf9d13039   \n",
       "1  0x02abeca2f5f6078c54720e65c7df434ca505719e9144789cca93f2145702df3a   \n",
       "2  0x03abf44b5abc4d243d4685d1d2afddc119d9cd977c7acac2dde8526e8212781d   \n",
       "\n",
       "                     transaction_from_address  \\\n",
       "0  0x89e51fa8ca5d66cd220baed62ed01e8951aa7c40   \n",
       "1  0xae2d4617c862309a3d75a0ffb358c7a5009c673f   \n",
       "2  0x1c2ddd05017d2a4bef1a69220b8aa0f9d1c09725   \n",
       "\n",
       "                       transaction_to_address  value  receipt_gas_used  \\\n",
       "0  0xdac17f958d2ee523a2206206994597c13d831ec7      0             63209   \n",
       "1  0xa24787320ede4cc19d800bf87b41ab9539c4da9d      0             71351   \n",
       "2  0xdac17f958d2ee523a2206206994597c13d831ec7      0             41321   \n",
       "\n",
       "                                token_address  \\\n",
       "0  0xdac17f958d2ee523a2206206994597c13d831ec7   \n",
       "1  0xa0b86991c6218b36c1d19d4a2e9eb0ce3606eb48   \n",
       "2  0xdac17f958d2ee523a2206206994597c13d831ec7   \n",
       "\n",
       "                           token_from_address  \\\n",
       "0  0x89e51fa8ca5d66cd220baed62ed01e8951aa7c40   \n",
       "1  0x11c0e4d79f48ce81fbbc69f635e8338afed8c82f   \n",
       "2  0x1c2ddd05017d2a4bef1a69220b8aa0f9d1c09725   \n",
       "\n",
       "                             token_to_address   token_value    gas_price  \n",
       "0  0x873610638e4f80cb62ac45626fbb7c624b7eaca2     116472200  17354350667  \n",
       "1  0xae2d4617c862309a3d75a0ffb358c7a5009c673f  100000000000  17354350667  \n",
       "2  0x28c6c06298d514db089934071355e5743bf21d60    7255072992  17354350667  "
      ]
     },
     "execution_count": 5,
     "metadata": {},
     "output_type": "execute_result"
    }
   ],
   "source": [
    "pd.set_option('display.max_colwidth', None)\n",
    "infile='trans_tokens_20220702.parquet'\n",
    "ether_df2=pd.read_parquet(infile)\n",
    "ether_df2.head(3)"
   ]
  },
  {
   "cell_type": "code",
   "execution_count": 6,
   "id": "abb5b4a4",
   "metadata": {},
   "outputs": [
    {
     "name": "stdout",
     "output_type": "stream",
     "text": [
      "           sdate  ether_price\n",
      "1460  2022-06-29      1097.96\n",
      "1461  2022-06-30      1032.82\n",
      "1462  2022-07-01      1063.89\n",
      "1463  2022-07-02      1060.75\n",
      "1464  2022-07-03      1056.16\n",
      "1465  2022-07-04      1108.14\n",
      "1466  2022-07-05      1094.73\n",
      "1467  2022-07-06      1144.35\n",
      "1468  2022-07-07      1232.81\n",
      "1469  2022-07-08      1221.21\n"
     ]
    },
    {
     "data": {
      "text/html": [
       "<div>\n",
       "<style scoped>\n",
       "    .dataframe tbody tr th:only-of-type {\n",
       "        vertical-align: middle;\n",
       "    }\n",
       "\n",
       "    .dataframe tbody tr th {\n",
       "        vertical-align: top;\n",
       "    }\n",
       "\n",
       "    .dataframe thead th {\n",
       "        text-align: right;\n",
       "    }\n",
       "</style>\n",
       "<table border=\"1\" class=\"dataframe\">\n",
       "  <thead>\n",
       "    <tr style=\"text-align: right;\">\n",
       "      <th></th>\n",
       "      <th>sdate</th>\n",
       "      <th>ether_price</th>\n",
       "    </tr>\n",
       "  </thead>\n",
       "  <tbody>\n",
       "    <tr>\n",
       "      <th>0</th>\n",
       "      <td>2018-06-30</td>\n",
       "      <td>446.38</td>\n",
       "    </tr>\n",
       "    <tr>\n",
       "      <th>1</th>\n",
       "      <td>2018-07-01</td>\n",
       "      <td>449.44</td>\n",
       "    </tr>\n",
       "    <tr>\n",
       "      <th>2</th>\n",
       "      <td>2018-07-02</td>\n",
       "      <td>471.57</td>\n",
       "    </tr>\n",
       "    <tr>\n",
       "      <th>3</th>\n",
       "      <td>2018-07-03</td>\n",
       "      <td>469.93</td>\n",
       "    </tr>\n",
       "    <tr>\n",
       "      <th>4</th>\n",
       "      <td>2018-07-04</td>\n",
       "      <td>472.74</td>\n",
       "    </tr>\n",
       "  </tbody>\n",
       "</table>\n",
       "</div>"
      ],
      "text/plain": [
       "        sdate  ether_price\n",
       "0  2018-06-30       446.38\n",
       "1  2018-07-01       449.44\n",
       "2  2018-07-02       471.57\n",
       "3  2018-07-03       469.93\n",
       "4  2018-07-04       472.74"
      ]
     },
     "execution_count": 6,
     "metadata": {},
     "output_type": "execute_result"
    }
   ],
   "source": [
    "infile='ETH_20180621_20220708_daily_ticks.csv.gz'\n",
    "ether_daily_price_df=pd.read_csv(infile)\n",
    "ether_daily_price_df.rename(columns={'date':'sdate'},inplace=True)\n",
    "print(ether_daily_price_df.tail(10))\n",
    "ether_daily_price_df.head()"
   ]
  },
  {
   "cell_type": "markdown",
   "id": "7f18e198",
   "metadata": {},
   "source": [
    "Calculate the average price from the output above"
   ]
  },
  {
   "cell_type": "code",
   "execution_count": 7,
   "id": "5629d7e8",
   "metadata": {},
   "outputs": [
    {
     "name": "stdout",
     "output_type": "stream",
     "text": [
      "The average price is:  1062.3200000000002\n"
     ]
    }
   ],
   "source": [
    "ave_price = (1063.89+1060.75)/2\n",
    "print(\"The average price is: \", ave_price)\n"
   ]
  },
  {
   "cell_type": "markdown",
   "id": "6fcd07fc",
   "metadata": {},
   "source": [
    "### For assigned token"
   ]
  },
  {
   "cell_type": "markdown",
   "id": "fdefcf08",
   "metadata": {},
   "source": [
    "Group C was assigned token address: 0x6c6ee5e31d828de241282b9606c8e98ea48526e2"
   ]
  },
  {
   "cell_type": "code",
   "execution_count": 8,
   "id": "29fa8f89",
   "metadata": {},
   "outputs": [
    {
     "data": {
      "text/html": [
       "<div>\n",
       "<style scoped>\n",
       "    .dataframe tbody tr th:only-of-type {\n",
       "        vertical-align: middle;\n",
       "    }\n",
       "\n",
       "    .dataframe tbody tr th {\n",
       "        vertical-align: top;\n",
       "    }\n",
       "\n",
       "    .dataframe thead th {\n",
       "        text-align: right;\n",
       "    }\n",
       "</style>\n",
       "<table border=\"1\" class=\"dataframe\">\n",
       "  <thead>\n",
       "    <tr style=\"text-align: right;\">\n",
       "      <th></th>\n",
       "      <th>block_number</th>\n",
       "      <th>block_timestamp</th>\n",
       "      <th>transaction_hash</th>\n",
       "      <th>transaction_from_address</th>\n",
       "      <th>transaction_to_address</th>\n",
       "      <th>value</th>\n",
       "      <th>receipt_gas_used</th>\n",
       "      <th>token_address</th>\n",
       "      <th>token_from_address</th>\n",
       "      <th>token_to_address</th>\n",
       "      <th>token_value</th>\n",
       "      <th>gas_price</th>\n",
       "    </tr>\n",
       "  </thead>\n",
       "  <tbody>\n",
       "    <tr>\n",
       "      <th>773</th>\n",
       "      <td>15053230</td>\n",
       "      <td>2022-07-01 00:00:44</td>\n",
       "      <td>0xace79f10aa348e9848397d719b8fa97459f16ae2d3a2773539c148290de67de5</td>\n",
       "      <td>0xdd2300980430e0000000c0c6027ef7a0c93fc6bc</td>\n",
       "      <td>0x0000004f2f05a8223b89edb700848d70970742bf</td>\n",
       "      <td>0</td>\n",
       "      <td>239120</td>\n",
       "      <td>0x6c6ee5e31d828de241282b9606c8e98ea48526e2</td>\n",
       "      <td>0xa238a470c9121b9a5a6107d7af87eb6bffbe72fe</td>\n",
       "      <td>0xf7849d0852fc588210b9c0d8b26f43c0c9bc1470</td>\n",
       "      <td>418476381578328935511131</td>\n",
       "      <td>90596005014</td>\n",
       "    </tr>\n",
       "    <tr>\n",
       "      <th>1717</th>\n",
       "      <td>15053238</td>\n",
       "      <td>2022-07-01 00:02:52</td>\n",
       "      <td>0x0e0d82bc7d8a370b9393b11b347d34101aad14b376c03d0da1f4ed0fc80d2ea2</td>\n",
       "      <td>0x8e8f818d3371f797a2db7edb32803607c8b3c6a9</td>\n",
       "      <td>0x98c3d3183c4b8a650614ad179a1a98be0a8d6b8e</td>\n",
       "      <td>0</td>\n",
       "      <td>113441</td>\n",
       "      <td>0x6c6ee5e31d828de241282b9606c8e98ea48526e2</td>\n",
       "      <td>0xf7849d0852fc588210b9c0d8b26f43c0c9bc1470</td>\n",
       "      <td>0x98c3d3183c4b8a650614ad179a1a98be0a8d6b8e</td>\n",
       "      <td>369430000000000007177370</td>\n",
       "      <td>69997967014</td>\n",
       "    </tr>\n",
       "    <tr>\n",
       "      <th>2976</th>\n",
       "      <td>15053248</td>\n",
       "      <td>2022-07-01 00:05:48</td>\n",
       "      <td>0x7ead28086d2eb6b2c7f177ef175dde1ac0853d9966f988b14e351ebe3da5366b</td>\n",
       "      <td>0x6cc8dcbca746a6e4fdefb98e1d0df903b107fd21</td>\n",
       "      <td>0x6c6ee5e31d828de241282b9606c8e98ea48526e2</td>\n",
       "      <td>0</td>\n",
       "      <td>54453</td>\n",
       "      <td>0x6c6ee5e31d828de241282b9606c8e98ea48526e2</td>\n",
       "      <td>0x6cc8dcbca746a6e4fdefb98e1d0df903b107fd21</td>\n",
       "      <td>0xe0e75a9b83ac7e0b7d78ad10551bf8a1fbca733c</td>\n",
       "      <td>160547686083540000000000</td>\n",
       "      <td>67067847848</td>\n",
       "    </tr>\n",
       "  </tbody>\n",
       "</table>\n",
       "</div>"
      ],
      "text/plain": [
       "      block_number      block_timestamp  \\\n",
       "773       15053230  2022-07-01 00:00:44   \n",
       "1717      15053238  2022-07-01 00:02:52   \n",
       "2976      15053248  2022-07-01 00:05:48   \n",
       "\n",
       "                                                        transaction_hash  \\\n",
       "773   0xace79f10aa348e9848397d719b8fa97459f16ae2d3a2773539c148290de67de5   \n",
       "1717  0x0e0d82bc7d8a370b9393b11b347d34101aad14b376c03d0da1f4ed0fc80d2ea2   \n",
       "2976  0x7ead28086d2eb6b2c7f177ef175dde1ac0853d9966f988b14e351ebe3da5366b   \n",
       "\n",
       "                        transaction_from_address  \\\n",
       "773   0xdd2300980430e0000000c0c6027ef7a0c93fc6bc   \n",
       "1717  0x8e8f818d3371f797a2db7edb32803607c8b3c6a9   \n",
       "2976  0x6cc8dcbca746a6e4fdefb98e1d0df903b107fd21   \n",
       "\n",
       "                          transaction_to_address  value  receipt_gas_used  \\\n",
       "773   0x0000004f2f05a8223b89edb700848d70970742bf      0            239120   \n",
       "1717  0x98c3d3183c4b8a650614ad179a1a98be0a8d6b8e      0            113441   \n",
       "2976  0x6c6ee5e31d828de241282b9606c8e98ea48526e2      0             54453   \n",
       "\n",
       "                                   token_address  \\\n",
       "773   0x6c6ee5e31d828de241282b9606c8e98ea48526e2   \n",
       "1717  0x6c6ee5e31d828de241282b9606c8e98ea48526e2   \n",
       "2976  0x6c6ee5e31d828de241282b9606c8e98ea48526e2   \n",
       "\n",
       "                              token_from_address  \\\n",
       "773   0xa238a470c9121b9a5a6107d7af87eb6bffbe72fe   \n",
       "1717  0xf7849d0852fc588210b9c0d8b26f43c0c9bc1470   \n",
       "2976  0x6cc8dcbca746a6e4fdefb98e1d0df903b107fd21   \n",
       "\n",
       "                                token_to_address               token_value  \\\n",
       "773   0xf7849d0852fc588210b9c0d8b26f43c0c9bc1470  418476381578328935511131   \n",
       "1717  0x98c3d3183c4b8a650614ad179a1a98be0a8d6b8e  369430000000000007177370   \n",
       "2976  0xe0e75a9b83ac7e0b7d78ad10551bf8a1fbca733c  160547686083540000000000   \n",
       "\n",
       "        gas_price  \n",
       "773   90596005014  \n",
       "1717  69997967014  \n",
       "2976  67067847848  "
      ]
     },
     "execution_count": 8,
     "metadata": {},
     "output_type": "execute_result"
    }
   ],
   "source": [
    "details_df=ether_df.query('token_address==\"0x6c6ee5e31d828de241282b9606c8e98ea48526e2\"')\n",
    "details_df2=ether_df2.query('token_address==\"0x6c6ee5e31d828de241282b9606c8e98ea48526e2\"')\n",
    "details_df.head(3)"
   ]
  },
  {
   "cell_type": "markdown",
   "id": "a4833d6f",
   "metadata": {},
   "source": [
    "### Compute the average number of daily transactions."
   ]
  },
  {
   "cell_type": "code",
   "execution_count": 9,
   "id": "15dbebb6",
   "metadata": {},
   "outputs": [
    {
     "name": "stdout",
     "output_type": "stream",
     "text": [
      "Total number of transactions for Team C token:  549\n"
     ]
    }
   ],
   "source": [
    "total = len(details_df2)+len(details_df)\n",
    "print(\"Total number of transactions for Team C token: \", total)"
   ]
  },
  {
   "cell_type": "code",
   "execution_count": 10,
   "id": "b7240c4f",
   "metadata": {},
   "outputs": [
    {
     "name": "stdout",
     "output_type": "stream",
     "text": [
      "The average number of daily transactions:  274.5\n"
     ]
    }
   ],
   "source": [
    "num_trans_assigned = (len(details_df)+len(details_df2))/2\n",
    "print(\"The average number of daily transactions: \", num_trans_assigned)\n"
   ]
  },
  {
   "cell_type": "markdown",
   "id": "a4963cab",
   "metadata": {},
   "source": [
    "# Question 2\n"
   ]
  },
  {
   "cell_type": "markdown",
   "id": "4c19d6e5",
   "metadata": {},
   "source": [
    "### Compute the average daily market value in USD of those transactions. You can use prices from CoinMarket Cap for those two days.\n"
   ]
  },
  {
   "cell_type": "markdown",
   "id": "f9596150",
   "metadata": {},
   "source": [
    "On July 1st the closing price of holo was: $0.002036\n",
    "\n",
    "On July 2nd the closing price of holo was: $0.00205"
   ]
  },
  {
   "cell_type": "code",
   "execution_count": 11,
   "id": "856ab2e8",
   "metadata": {},
   "outputs": [
    {
     "name": "stdout",
     "output_type": "stream",
     "text": [
      "0.002043\n"
     ]
    }
   ],
   "source": [
    "holo_avg_price = (0.002036 + 0.00205)/2\n",
    "print(holo_avg_price)"
   ]
  },
  {
   "cell_type": "code",
   "execution_count": 12,
   "id": "06e5bcf2",
   "metadata": {},
   "outputs": [
    {
     "name": "stderr",
     "output_type": "stream",
     "text": [
      "C:\\Users\\jessi\\AppData\\Local\\Temp/ipykernel_4480/110378519.py:1: SettingWithCopyWarning: \n",
      "A value is trying to be set on a copy of a slice from a DataFrame.\n",
      "Try using .loc[row_indexer,col_indexer] = value instead\n",
      "\n",
      "See the caveats in the documentation: https://pandas.pydata.org/pandas-docs/stable/user_guide/indexing.html#returning-a-view-versus-a-copy\n",
      "  details_df['token_value'] = details_df['token_value'].astype('float')\n",
      "C:\\Users\\jessi\\AppData\\Local\\Temp/ipykernel_4480/110378519.py:2: SettingWithCopyWarning: \n",
      "A value is trying to be set on a copy of a slice from a DataFrame.\n",
      "Try using .loc[row_indexer,col_indexer] = value instead\n",
      "\n",
      "See the caveats in the documentation: https://pandas.pydata.org/pandas-docs/stable/user_guide/indexing.html#returning-a-view-versus-a-copy\n",
      "  details_df['value'] = (details_df['token_value'] / 10**18)\n",
      "C:\\Users\\jessi\\AppData\\Local\\Temp/ipykernel_4480/110378519.py:4: SettingWithCopyWarning: \n",
      "A value is trying to be set on a copy of a slice from a DataFrame.\n",
      "Try using .loc[row_indexer,col_indexer] = value instead\n",
      "\n",
      "See the caveats in the documentation: https://pandas.pydata.org/pandas-docs/stable/user_guide/indexing.html#returning-a-view-versus-a-copy\n",
      "  details_df2['token_value'] = details_df2['token_value'].astype('float')\n",
      "C:\\Users\\jessi\\AppData\\Local\\Temp/ipykernel_4480/110378519.py:5: SettingWithCopyWarning: \n",
      "A value is trying to be set on a copy of a slice from a DataFrame.\n",
      "Try using .loc[row_indexer,col_indexer] = value instead\n",
      "\n",
      "See the caveats in the documentation: https://pandas.pydata.org/pandas-docs/stable/user_guide/indexing.html#returning-a-view-versus-a-copy\n",
      "  details_df2['value'] = (details_df2['token_value'] / 10**18)\n"
     ]
    }
   ],
   "source": [
    "details_df['token_value'] = details_df['token_value'].astype('float')\n",
    "details_df['value'] = (details_df['token_value'] / 10**18)\n",
    "\n",
    "details_df2['token_value'] = details_df2['token_value'].astype('float')\n",
    "details_df2['value'] = (details_df2['token_value'] / 10**18)"
   ]
  },
  {
   "cell_type": "code",
   "execution_count": 13,
   "id": "625a0ecb",
   "metadata": {},
   "outputs": [
    {
     "data": {
      "text/html": [
       "<div>\n",
       "<style scoped>\n",
       "    .dataframe tbody tr th:only-of-type {\n",
       "        vertical-align: middle;\n",
       "    }\n",
       "\n",
       "    .dataframe tbody tr th {\n",
       "        vertical-align: top;\n",
       "    }\n",
       "\n",
       "    .dataframe thead th {\n",
       "        text-align: right;\n",
       "    }\n",
       "</style>\n",
       "<table border=\"1\" class=\"dataframe\">\n",
       "  <thead>\n",
       "    <tr style=\"text-align: right;\">\n",
       "      <th></th>\n",
       "      <th>block_number</th>\n",
       "      <th>block_timestamp</th>\n",
       "      <th>transaction_hash</th>\n",
       "      <th>transaction_from_address</th>\n",
       "      <th>transaction_to_address</th>\n",
       "      <th>value</th>\n",
       "      <th>receipt_gas_used</th>\n",
       "      <th>token_address</th>\n",
       "      <th>token_from_address</th>\n",
       "      <th>token_to_address</th>\n",
       "      <th>token_value</th>\n",
       "      <th>gas_price</th>\n",
       "    </tr>\n",
       "  </thead>\n",
       "  <tbody>\n",
       "    <tr>\n",
       "      <th>773</th>\n",
       "      <td>15053230</td>\n",
       "      <td>2022-07-01 00:00:44</td>\n",
       "      <td>0xace79f10aa348e9848397d719b8fa97459f16ae2d3a2773539c148290de67de5</td>\n",
       "      <td>0xdd2300980430e0000000c0c6027ef7a0c93fc6bc</td>\n",
       "      <td>0x0000004f2f05a8223b89edb700848d70970742bf</td>\n",
       "      <td>418476.381578</td>\n",
       "      <td>239120</td>\n",
       "      <td>0x6c6ee5e31d828de241282b9606c8e98ea48526e2</td>\n",
       "      <td>0xa238a470c9121b9a5a6107d7af87eb6bffbe72fe</td>\n",
       "      <td>0xf7849d0852fc588210b9c0d8b26f43c0c9bc1470</td>\n",
       "      <td>4.184764e+23</td>\n",
       "      <td>90596005014</td>\n",
       "    </tr>\n",
       "    <tr>\n",
       "      <th>1717</th>\n",
       "      <td>15053238</td>\n",
       "      <td>2022-07-01 00:02:52</td>\n",
       "      <td>0x0e0d82bc7d8a370b9393b11b347d34101aad14b376c03d0da1f4ed0fc80d2ea2</td>\n",
       "      <td>0x8e8f818d3371f797a2db7edb32803607c8b3c6a9</td>\n",
       "      <td>0x98c3d3183c4b8a650614ad179a1a98be0a8d6b8e</td>\n",
       "      <td>369430.000000</td>\n",
       "      <td>113441</td>\n",
       "      <td>0x6c6ee5e31d828de241282b9606c8e98ea48526e2</td>\n",
       "      <td>0xf7849d0852fc588210b9c0d8b26f43c0c9bc1470</td>\n",
       "      <td>0x98c3d3183c4b8a650614ad179a1a98be0a8d6b8e</td>\n",
       "      <td>3.694300e+23</td>\n",
       "      <td>69997967014</td>\n",
       "    </tr>\n",
       "    <tr>\n",
       "      <th>2976</th>\n",
       "      <td>15053248</td>\n",
       "      <td>2022-07-01 00:05:48</td>\n",
       "      <td>0x7ead28086d2eb6b2c7f177ef175dde1ac0853d9966f988b14e351ebe3da5366b</td>\n",
       "      <td>0x6cc8dcbca746a6e4fdefb98e1d0df903b107fd21</td>\n",
       "      <td>0x6c6ee5e31d828de241282b9606c8e98ea48526e2</td>\n",
       "      <td>160547.686084</td>\n",
       "      <td>54453</td>\n",
       "      <td>0x6c6ee5e31d828de241282b9606c8e98ea48526e2</td>\n",
       "      <td>0x6cc8dcbca746a6e4fdefb98e1d0df903b107fd21</td>\n",
       "      <td>0xe0e75a9b83ac7e0b7d78ad10551bf8a1fbca733c</td>\n",
       "      <td>1.605477e+23</td>\n",
       "      <td>67067847848</td>\n",
       "    </tr>\n",
       "    <tr>\n",
       "      <th>4266</th>\n",
       "      <td>15053266</td>\n",
       "      <td>2022-07-01 00:08:42</td>\n",
       "      <td>0x993dabf2e81a7aa79753293cfb36472a08a6024096ff23b1a2867da1fba5dc9e</td>\n",
       "      <td>0x8e8f818d3371f797a2db7edb32803607c8b3c6a9</td>\n",
       "      <td>0x98c3d3183c4b8a650614ad179a1a98be0a8d6b8e</td>\n",
       "      <td>167344.000000</td>\n",
       "      <td>99805</td>\n",
       "      <td>0x6c6ee5e31d828de241282b9606c8e98ea48526e2</td>\n",
       "      <td>0xf5ef67632cd2256d939702a126fe2c047d0a07bf</td>\n",
       "      <td>0x98c3d3183c4b8a650614ad179a1a98be0a8d6b8e</td>\n",
       "      <td>1.673440e+23</td>\n",
       "      <td>36401090997</td>\n",
       "    </tr>\n",
       "    <tr>\n",
       "      <th>6835</th>\n",
       "      <td>15053294</td>\n",
       "      <td>2022-07-01 00:14:26</td>\n",
       "      <td>0x8db7f0da8b4b424468ab170b369b7a8c9e62f8623943429c25c5558653d6abb2</td>\n",
       "      <td>0xdfd5293d8e347dfe59e90efd55b2956a1343963d</td>\n",
       "      <td>0x6c6ee5e31d828de241282b9606c8e98ea48526e2</td>\n",
       "      <td>30104.500000</td>\n",
       "      <td>54441</td>\n",
       "      <td>0x6c6ee5e31d828de241282b9606c8e98ea48526e2</td>\n",
       "      <td>0xdfd5293d8e347dfe59e90efd55b2956a1343963d</td>\n",
       "      <td>0x63fde484056de9a112f0185699fe377276ccdbc2</td>\n",
       "      <td>3.010450e+22</td>\n",
       "      <td>29271365847</td>\n",
       "    </tr>\n",
       "  </tbody>\n",
       "</table>\n",
       "</div>"
      ],
      "text/plain": [
       "      block_number      block_timestamp  \\\n",
       "773       15053230  2022-07-01 00:00:44   \n",
       "1717      15053238  2022-07-01 00:02:52   \n",
       "2976      15053248  2022-07-01 00:05:48   \n",
       "4266      15053266  2022-07-01 00:08:42   \n",
       "6835      15053294  2022-07-01 00:14:26   \n",
       "\n",
       "                                                        transaction_hash  \\\n",
       "773   0xace79f10aa348e9848397d719b8fa97459f16ae2d3a2773539c148290de67de5   \n",
       "1717  0x0e0d82bc7d8a370b9393b11b347d34101aad14b376c03d0da1f4ed0fc80d2ea2   \n",
       "2976  0x7ead28086d2eb6b2c7f177ef175dde1ac0853d9966f988b14e351ebe3da5366b   \n",
       "4266  0x993dabf2e81a7aa79753293cfb36472a08a6024096ff23b1a2867da1fba5dc9e   \n",
       "6835  0x8db7f0da8b4b424468ab170b369b7a8c9e62f8623943429c25c5558653d6abb2   \n",
       "\n",
       "                        transaction_from_address  \\\n",
       "773   0xdd2300980430e0000000c0c6027ef7a0c93fc6bc   \n",
       "1717  0x8e8f818d3371f797a2db7edb32803607c8b3c6a9   \n",
       "2976  0x6cc8dcbca746a6e4fdefb98e1d0df903b107fd21   \n",
       "4266  0x8e8f818d3371f797a2db7edb32803607c8b3c6a9   \n",
       "6835  0xdfd5293d8e347dfe59e90efd55b2956a1343963d   \n",
       "\n",
       "                          transaction_to_address          value  \\\n",
       "773   0x0000004f2f05a8223b89edb700848d70970742bf  418476.381578   \n",
       "1717  0x98c3d3183c4b8a650614ad179a1a98be0a8d6b8e  369430.000000   \n",
       "2976  0x6c6ee5e31d828de241282b9606c8e98ea48526e2  160547.686084   \n",
       "4266  0x98c3d3183c4b8a650614ad179a1a98be0a8d6b8e  167344.000000   \n",
       "6835  0x6c6ee5e31d828de241282b9606c8e98ea48526e2   30104.500000   \n",
       "\n",
       "      receipt_gas_used                               token_address  \\\n",
       "773             239120  0x6c6ee5e31d828de241282b9606c8e98ea48526e2   \n",
       "1717            113441  0x6c6ee5e31d828de241282b9606c8e98ea48526e2   \n",
       "2976             54453  0x6c6ee5e31d828de241282b9606c8e98ea48526e2   \n",
       "4266             99805  0x6c6ee5e31d828de241282b9606c8e98ea48526e2   \n",
       "6835             54441  0x6c6ee5e31d828de241282b9606c8e98ea48526e2   \n",
       "\n",
       "                              token_from_address  \\\n",
       "773   0xa238a470c9121b9a5a6107d7af87eb6bffbe72fe   \n",
       "1717  0xf7849d0852fc588210b9c0d8b26f43c0c9bc1470   \n",
       "2976  0x6cc8dcbca746a6e4fdefb98e1d0df903b107fd21   \n",
       "4266  0xf5ef67632cd2256d939702a126fe2c047d0a07bf   \n",
       "6835  0xdfd5293d8e347dfe59e90efd55b2956a1343963d   \n",
       "\n",
       "                                token_to_address   token_value    gas_price  \n",
       "773   0xf7849d0852fc588210b9c0d8b26f43c0c9bc1470  4.184764e+23  90596005014  \n",
       "1717  0x98c3d3183c4b8a650614ad179a1a98be0a8d6b8e  3.694300e+23  69997967014  \n",
       "2976  0xe0e75a9b83ac7e0b7d78ad10551bf8a1fbca733c  1.605477e+23  67067847848  \n",
       "4266  0x98c3d3183c4b8a650614ad179a1a98be0a8d6b8e  1.673440e+23  36401090997  \n",
       "6835  0x63fde484056de9a112f0185699fe377276ccdbc2  3.010450e+22  29271365847  "
      ]
     },
     "execution_count": 13,
     "metadata": {},
     "output_type": "execute_result"
    }
   ],
   "source": [
    "details_df.head()"
   ]
  },
  {
   "cell_type": "code",
   "execution_count": 20,
   "id": "f6f3d705",
   "metadata": {},
   "outputs": [
    {
     "name": "stdout",
     "output_type": "stream",
     "text": [
      "The average daily market value in USD of those transactions:  value    583212.188649\n",
      "dtype: object\n"
     ]
    }
   ],
   "source": [
    "avg_value = ((details_df.sum()[['value']] * 0.002036) + (details_df2.sum()[['value']] * 0.00205))/2\n",
    "             \n",
    "print(\"The average daily market value in USD of those transactions: \", avg_value)"
   ]
  },
  {
   "cell_type": "markdown",
   "id": "7482fa9f",
   "metadata": {},
   "source": [
    "# Question 3"
   ]
  },
  {
   "cell_type": "markdown",
   "id": "e2777d2d",
   "metadata": {},
   "source": [
    "## On-chain, determine, over the two days:"
   ]
  },
  {
   "cell_type": "markdown",
   "id": "bbb7bfe7",
   "metadata": {},
   "source": [
    "### (a) the total number of unique senders.\n"
   ]
  },
  {
   "cell_type": "code",
   "execution_count": 11,
   "id": "3ba810f7",
   "metadata": {},
   "outputs": [],
   "source": [
    "unique_send = details_df['token_from_address'].nunique() + details_df2['token_from_address'].nunique()"
   ]
  },
  {
   "cell_type": "code",
   "execution_count": 12,
   "id": "16ba4500",
   "metadata": {},
   "outputs": [
    {
     "name": "stdout",
     "output_type": "stream",
     "text": [
      "The total number of unique senders is:  307\n"
     ]
    }
   ],
   "source": [
    "print(\"The total number of unique senders is: \", unique_send)"
   ]
  },
  {
   "cell_type": "markdown",
   "id": "be04ff26",
   "metadata": {},
   "source": [
    "### (b) the total number of unique recipients.\n"
   ]
  },
  {
   "cell_type": "code",
   "execution_count": 13,
   "id": "6df2084b",
   "metadata": {},
   "outputs": [],
   "source": [
    "unique_rec = details_df['token_to_address'].nunique() + details_df2['token_to_address'].nunique()"
   ]
  },
  {
   "cell_type": "code",
   "execution_count": 14,
   "id": "fe7e5fbc",
   "metadata": {},
   "outputs": [
    {
     "name": "stdout",
     "output_type": "stream",
     "text": [
      "The total number of unique recipients is:  301\n"
     ]
    }
   ],
   "source": [
    "print(\"The total number of unique recipients is: \", unique_rec)"
   ]
  },
  {
   "cell_type": "markdown",
   "id": "404d641f",
   "metadata": {},
   "source": [
    "### (c) Who are the five most frequent senders based on (i) the number of transactions; (ii) the market value of the transactions. If you can determine the names associated with any address from Etherscan provide it."
   ]
  },
  {
   "cell_type": "code",
   "execution_count": 17,
   "id": "919fd915",
   "metadata": {
    "scrolled": false
   },
   "outputs": [
    {
     "data": {
      "text/plain": [
       "0xb7f830845e9f385372ae6fb160aa968908f5bfbc    13\n",
       "0xf5ef67632cd2256d939702a126fe2c047d0a07bf    10\n",
       "0x28c6c06298d514db089934071355e5743bf21d60     9\n",
       "0xdfd5293d8e347dfe59e90efd55b2956a1343963d     9\n",
       "0xf7849d0852fc588210b9c0d8b26f43c0c9bc1470     9\n",
       "Name: token_from_address, dtype: int64"
      ]
     },
     "execution_count": 17,
     "metadata": {},
     "output_type": "execute_result"
    }
   ],
   "source": [
    "details_df['token_from_address'].value_counts().nlargest(5)"
   ]
  },
  {
   "cell_type": "code",
   "execution_count": 16,
   "id": "98fafe34",
   "metadata": {},
   "outputs": [
    {
     "data": {
      "text/plain": [
       "0xf5ef67632cd2256d939702a126fe2c047d0a07bf    19\n",
       "0x46340b20830761efd32832a74d7169b29feb9758    12\n",
       "0x6cc8dcbca746a6e4fdefb98e1d0df903b107fd21    12\n",
       "0xdfd5293d8e347dfe59e90efd55b2956a1343963d    11\n",
       "0xb7f830845e9f385372ae6fb160aa968908f5bfbc    10\n",
       "Name: token_from_address, dtype: int64"
      ]
     },
     "execution_count": 16,
     "metadata": {},
     "output_type": "execute_result"
    }
   ],
   "source": [
    "details_df2['token_from_address'].value_counts().nlargest(5)"
   ]
  },
  {
   "cell_type": "markdown",
   "id": "dde4f76c",
   "metadata": {},
   "source": [
    "Combine both datasets to find largest combined senders and recipients"
   ]
  },
  {
   "cell_type": "code",
   "execution_count": 18,
   "id": "ef19f2d3",
   "metadata": {},
   "outputs": [],
   "source": [
    "concatenated = pd.concat([details_df, details_df2])\n"
   ]
  },
  {
   "cell_type": "code",
   "execution_count": 19,
   "id": "7256be6b",
   "metadata": {},
   "outputs": [
    {
     "name": "stdout",
     "output_type": "stream",
     "text": [
      "(i) The top five senders based on the number of transactions: \n",
      "0xf5ef67632cd2256d939702a126fe2c047d0a07bf    29\n",
      "0xb7f830845e9f385372ae6fb160aa968908f5bfbc    23\n",
      "0x6cc8dcbca746a6e4fdefb98e1d0df903b107fd21    20\n",
      "0xdfd5293d8e347dfe59e90efd55b2956a1343963d    20\n",
      "0x28c6c06298d514db089934071355e5743bf21d60    19\n",
      "Name: token_from_address, dtype: int64\n"
     ]
    }
   ],
   "source": [
    "top_senders = concatenated['token_from_address'].value_counts().nlargest(5)\n",
    "print(\"(i) The top five senders based on the number of transactions: \")\n",
    "print(top_senders)"
   ]
  },
  {
   "cell_type": "markdown",
   "id": "6a9c1083",
   "metadata": {},
   "source": [
    "According to Etherscan, these are the names of the following senders:\n",
    "\n",
    "0xf5ef67632cd2256d939702a126fe2c047d0a07bf   -  No name listed\n",
    "\n",
    "0xb7f830845e9f385372ae6fb160aa968908f5bfbc   -  No name listed\n",
    "\n",
    "0x6cc8dcbca746a6e4fdefb98e1d0df903b107fd21   -  No name listed\n",
    "\n",
    "0xdfd5293d8e347dfe59e90efd55b2956a1343963d   -  No name listed\n",
    "\n",
    "0x28c6c06298d514db089934071355e5743bf21d60   -  No name listed"
   ]
  },
  {
   "cell_type": "markdown",
   "id": "c5eca312",
   "metadata": {},
   "source": [
    "#### Convert token_value to market value ('value') by dividing by 10^18:"
   ]
  },
  {
   "cell_type": "code",
   "execution_count": 20,
   "id": "affd78e0",
   "metadata": {},
   "outputs": [],
   "source": [
    "concatenated['token_value'] = concatenated['token_value'].astype('float')\n",
    "concatenated['value'] = (concatenated['token_value'] / 10**18)"
   ]
  },
  {
   "cell_type": "code",
   "execution_count": 65,
   "id": "2a9f8129",
   "metadata": {},
   "outputs": [
    {
     "data": {
      "text/html": [
       "<div>\n",
       "<style scoped>\n",
       "    .dataframe tbody tr th:only-of-type {\n",
       "        vertical-align: middle;\n",
       "    }\n",
       "\n",
       "    .dataframe tbody tr th {\n",
       "        vertical-align: top;\n",
       "    }\n",
       "\n",
       "    .dataframe thead th {\n",
       "        text-align: right;\n",
       "    }\n",
       "</style>\n",
       "<table border=\"1\" class=\"dataframe\">\n",
       "  <thead>\n",
       "    <tr style=\"text-align: right;\">\n",
       "      <th></th>\n",
       "      <th>block_number</th>\n",
       "      <th>block_timestamp</th>\n",
       "      <th>transaction_hash</th>\n",
       "      <th>transaction_from_address</th>\n",
       "      <th>transaction_to_address</th>\n",
       "      <th>value</th>\n",
       "      <th>receipt_gas_used</th>\n",
       "      <th>token_address</th>\n",
       "      <th>token_from_address</th>\n",
       "      <th>token_to_address</th>\n",
       "      <th>token_value</th>\n",
       "      <th>gas_price</th>\n",
       "    </tr>\n",
       "  </thead>\n",
       "  <tbody>\n",
       "    <tr>\n",
       "      <th>773</th>\n",
       "      <td>15053230</td>\n",
       "      <td>2022-07-01 00:00:44</td>\n",
       "      <td>0xace79f10aa348e9848397d719b8fa97459f16ae2d3a2773539c148290de67de5</td>\n",
       "      <td>0xdd2300980430e0000000c0c6027ef7a0c93fc6bc</td>\n",
       "      <td>0x0000004f2f05a8223b89edb700848d70970742bf</td>\n",
       "      <td>418476.381578</td>\n",
       "      <td>239120</td>\n",
       "      <td>0x6c6ee5e31d828de241282b9606c8e98ea48526e2</td>\n",
       "      <td>0xa238a470c9121b9a5a6107d7af87eb6bffbe72fe</td>\n",
       "      <td>0xf7849d0852fc588210b9c0d8b26f43c0c9bc1470</td>\n",
       "      <td>4.184764e+23</td>\n",
       "      <td>90596005014</td>\n",
       "    </tr>\n",
       "    <tr>\n",
       "      <th>1717</th>\n",
       "      <td>15053238</td>\n",
       "      <td>2022-07-01 00:02:52</td>\n",
       "      <td>0x0e0d82bc7d8a370b9393b11b347d34101aad14b376c03d0da1f4ed0fc80d2ea2</td>\n",
       "      <td>0x8e8f818d3371f797a2db7edb32803607c8b3c6a9</td>\n",
       "      <td>0x98c3d3183c4b8a650614ad179a1a98be0a8d6b8e</td>\n",
       "      <td>369430.000000</td>\n",
       "      <td>113441</td>\n",
       "      <td>0x6c6ee5e31d828de241282b9606c8e98ea48526e2</td>\n",
       "      <td>0xf7849d0852fc588210b9c0d8b26f43c0c9bc1470</td>\n",
       "      <td>0x98c3d3183c4b8a650614ad179a1a98be0a8d6b8e</td>\n",
       "      <td>3.694300e+23</td>\n",
       "      <td>69997967014</td>\n",
       "    </tr>\n",
       "    <tr>\n",
       "      <th>2976</th>\n",
       "      <td>15053248</td>\n",
       "      <td>2022-07-01 00:05:48</td>\n",
       "      <td>0x7ead28086d2eb6b2c7f177ef175dde1ac0853d9966f988b14e351ebe3da5366b</td>\n",
       "      <td>0x6cc8dcbca746a6e4fdefb98e1d0df903b107fd21</td>\n",
       "      <td>0x6c6ee5e31d828de241282b9606c8e98ea48526e2</td>\n",
       "      <td>160547.686084</td>\n",
       "      <td>54453</td>\n",
       "      <td>0x6c6ee5e31d828de241282b9606c8e98ea48526e2</td>\n",
       "      <td>0x6cc8dcbca746a6e4fdefb98e1d0df903b107fd21</td>\n",
       "      <td>0xe0e75a9b83ac7e0b7d78ad10551bf8a1fbca733c</td>\n",
       "      <td>1.605477e+23</td>\n",
       "      <td>67067847848</td>\n",
       "    </tr>\n",
       "    <tr>\n",
       "      <th>4266</th>\n",
       "      <td>15053266</td>\n",
       "      <td>2022-07-01 00:08:42</td>\n",
       "      <td>0x993dabf2e81a7aa79753293cfb36472a08a6024096ff23b1a2867da1fba5dc9e</td>\n",
       "      <td>0x8e8f818d3371f797a2db7edb32803607c8b3c6a9</td>\n",
       "      <td>0x98c3d3183c4b8a650614ad179a1a98be0a8d6b8e</td>\n",
       "      <td>167344.000000</td>\n",
       "      <td>99805</td>\n",
       "      <td>0x6c6ee5e31d828de241282b9606c8e98ea48526e2</td>\n",
       "      <td>0xf5ef67632cd2256d939702a126fe2c047d0a07bf</td>\n",
       "      <td>0x98c3d3183c4b8a650614ad179a1a98be0a8d6b8e</td>\n",
       "      <td>1.673440e+23</td>\n",
       "      <td>36401090997</td>\n",
       "    </tr>\n",
       "    <tr>\n",
       "      <th>6835</th>\n",
       "      <td>15053294</td>\n",
       "      <td>2022-07-01 00:14:26</td>\n",
       "      <td>0x8db7f0da8b4b424468ab170b369b7a8c9e62f8623943429c25c5558653d6abb2</td>\n",
       "      <td>0xdfd5293d8e347dfe59e90efd55b2956a1343963d</td>\n",
       "      <td>0x6c6ee5e31d828de241282b9606c8e98ea48526e2</td>\n",
       "      <td>30104.500000</td>\n",
       "      <td>54441</td>\n",
       "      <td>0x6c6ee5e31d828de241282b9606c8e98ea48526e2</td>\n",
       "      <td>0xdfd5293d8e347dfe59e90efd55b2956a1343963d</td>\n",
       "      <td>0x63fde484056de9a112f0185699fe377276ccdbc2</td>\n",
       "      <td>3.010450e+22</td>\n",
       "      <td>29271365847</td>\n",
       "    </tr>\n",
       "  </tbody>\n",
       "</table>\n",
       "</div>"
      ],
      "text/plain": [
       "      block_number      block_timestamp  \\\n",
       "773       15053230  2022-07-01 00:00:44   \n",
       "1717      15053238  2022-07-01 00:02:52   \n",
       "2976      15053248  2022-07-01 00:05:48   \n",
       "4266      15053266  2022-07-01 00:08:42   \n",
       "6835      15053294  2022-07-01 00:14:26   \n",
       "\n",
       "                                                        transaction_hash  \\\n",
       "773   0xace79f10aa348e9848397d719b8fa97459f16ae2d3a2773539c148290de67de5   \n",
       "1717  0x0e0d82bc7d8a370b9393b11b347d34101aad14b376c03d0da1f4ed0fc80d2ea2   \n",
       "2976  0x7ead28086d2eb6b2c7f177ef175dde1ac0853d9966f988b14e351ebe3da5366b   \n",
       "4266  0x993dabf2e81a7aa79753293cfb36472a08a6024096ff23b1a2867da1fba5dc9e   \n",
       "6835  0x8db7f0da8b4b424468ab170b369b7a8c9e62f8623943429c25c5558653d6abb2   \n",
       "\n",
       "                        transaction_from_address  \\\n",
       "773   0xdd2300980430e0000000c0c6027ef7a0c93fc6bc   \n",
       "1717  0x8e8f818d3371f797a2db7edb32803607c8b3c6a9   \n",
       "2976  0x6cc8dcbca746a6e4fdefb98e1d0df903b107fd21   \n",
       "4266  0x8e8f818d3371f797a2db7edb32803607c8b3c6a9   \n",
       "6835  0xdfd5293d8e347dfe59e90efd55b2956a1343963d   \n",
       "\n",
       "                          transaction_to_address          value  \\\n",
       "773   0x0000004f2f05a8223b89edb700848d70970742bf  418476.381578   \n",
       "1717  0x98c3d3183c4b8a650614ad179a1a98be0a8d6b8e  369430.000000   \n",
       "2976  0x6c6ee5e31d828de241282b9606c8e98ea48526e2  160547.686084   \n",
       "4266  0x98c3d3183c4b8a650614ad179a1a98be0a8d6b8e  167344.000000   \n",
       "6835  0x6c6ee5e31d828de241282b9606c8e98ea48526e2   30104.500000   \n",
       "\n",
       "      receipt_gas_used                               token_address  \\\n",
       "773             239120  0x6c6ee5e31d828de241282b9606c8e98ea48526e2   \n",
       "1717            113441  0x6c6ee5e31d828de241282b9606c8e98ea48526e2   \n",
       "2976             54453  0x6c6ee5e31d828de241282b9606c8e98ea48526e2   \n",
       "4266             99805  0x6c6ee5e31d828de241282b9606c8e98ea48526e2   \n",
       "6835             54441  0x6c6ee5e31d828de241282b9606c8e98ea48526e2   \n",
       "\n",
       "                              token_from_address  \\\n",
       "773   0xa238a470c9121b9a5a6107d7af87eb6bffbe72fe   \n",
       "1717  0xf7849d0852fc588210b9c0d8b26f43c0c9bc1470   \n",
       "2976  0x6cc8dcbca746a6e4fdefb98e1d0df903b107fd21   \n",
       "4266  0xf5ef67632cd2256d939702a126fe2c047d0a07bf   \n",
       "6835  0xdfd5293d8e347dfe59e90efd55b2956a1343963d   \n",
       "\n",
       "                                token_to_address   token_value    gas_price  \n",
       "773   0xf7849d0852fc588210b9c0d8b26f43c0c9bc1470  4.184764e+23  90596005014  \n",
       "1717  0x98c3d3183c4b8a650614ad179a1a98be0a8d6b8e  3.694300e+23  69997967014  \n",
       "2976  0xe0e75a9b83ac7e0b7d78ad10551bf8a1fbca733c  1.605477e+23  67067847848  \n",
       "4266  0x98c3d3183c4b8a650614ad179a1a98be0a8d6b8e  1.673440e+23  36401090997  \n",
       "6835  0x63fde484056de9a112f0185699fe377276ccdbc2  3.010450e+22  29271365847  "
      ]
     },
     "execution_count": 65,
     "metadata": {},
     "output_type": "execute_result"
    }
   ],
   "source": [
    "concatenated.head()"
   ]
  },
  {
   "cell_type": "code",
   "execution_count": 21,
   "id": "1eac7030",
   "metadata": {
    "scrolled": false
   },
   "outputs": [
    {
     "name": "stdout",
     "output_type": "stream",
     "text": [
      "(ii) The top five senders based on the market value: \n",
      "                                                   value\n",
      "token_from_address                                      \n",
      "0x9acbb72cf67103a30333a32cd203459c6a9c3311  1.018905e+08\n",
      "0x37e1a81bf1a346820836a61af58df637c081d6c7  7.549436e+07\n",
      "0x95b564f3b3bae3f206aa418667ba000afafacc8a  6.215756e+07\n",
      "0x29984d1f9055cafb02dcdd53c54b727902e44975  5.964302e+07\n",
      "0x28c6c06298d514db089934071355e5743bf21d60  4.046808e+07\n"
     ]
    }
   ],
   "source": [
    "top_price_send = concatenated.groupby('token_from_address')(.sum()[['value']]).sort_values(by='value', ascending = False).head(5)\n",
    "print(\"(ii) The top five senders based on the market value: \")\n",
    "print(top_price_send)"
   ]
  },
  {
   "cell_type": "markdown",
   "id": "c1b85d5b",
   "metadata": {},
   "source": [
    "According to Etherscan, these are the names of the following senders:\n",
    "\n",
    "0x9acbb72cf67103a30333a32cd203459c6a9c3311  - No name listed\n",
    "\n",
    "0x37e1a81bf1a346820836a61af58df637c081d6c7  - No name listed\n",
    "\n",
    "0x95b564f3b3bae3f206aa418667ba000afafacc8a  - No name listed\n",
    "\n",
    "0x29984d1f9055cafb02dcdd53c54b727902e44975  - No name listed\n",
    "\n",
    "0x28c6c06298d514db089934071355e5743bf21d60  - No name listed"
   ]
  },
  {
   "cell_type": "markdown",
   "id": "096a13a2",
   "metadata": {},
   "source": [
    "### (d) Who are the five most frequent recipients based on (i) the number of transactions; (ii) the market value of the transactions. Provide the name as well as the hash if possible "
   ]
  },
  {
   "cell_type": "code",
   "execution_count": 22,
   "id": "72ce0666",
   "metadata": {},
   "outputs": [
    {
     "name": "stdout",
     "output_type": "stream",
     "text": [
      "(i) The top five recipients based on the number of transactions: \n",
      "0x95b564f3b3bae3f206aa418667ba000afafacc8a    126\n",
      "0xf5ef67632cd2256d939702a126fe2c047d0a07bf     25\n",
      "0x28c6c06298d514db089934071355e5743bf21d60     18\n",
      "0xe66b31678d6c16e9ebf358268a790b763c133750     18\n",
      "0xf7849d0852fc588210b9c0d8b26f43c0c9bc1470     11\n",
      "Name: token_to_address, dtype: int64\n"
     ]
    }
   ],
   "source": [
    "top_rec = concatenated['token_to_address'].value_counts().nlargest(5)\n",
    "print(\"(i) The top five recipients based on the number of transactions: \")\n",
    "print(top_rec)"
   ]
  },
  {
   "cell_type": "markdown",
   "id": "48d8705c",
   "metadata": {},
   "source": [
    "According to Etherscan, these are the names of the following recipients:\n",
    "\n",
    "0x95b564f3b3bae3f206aa418667ba000afafacc8a - No name listed\n",
    "\n",
    "0xf5ef67632cd2256d939702a126fe2c047d0a07bf - Uniswap V2 (UNI-V2)\n",
    "\n",
    "0x28c6c06298d514db089934071355e5743bf21d60 - No name listed\n",
    "\n",
    "0xe66b31678d6c16e9ebf358268a790b763c133750 - No name listed\n",
    "\n",
    "0xf7849d0852fc588210b9c0d8b26f43c0c9bc1470 - No name listed"
   ]
  },
  {
   "cell_type": "code",
   "execution_count": 23,
   "id": "136ec767",
   "metadata": {},
   "outputs": [
    {
     "name": "stdout",
     "output_type": "stream",
     "text": [
      "(ii) The top five recipients based on the market value: \n",
      "                                                   value\n",
      "token_to_address                                        \n",
      "0x28c6c06298d514db089934071355e5743bf21d60  1.711786e+08\n",
      "0x37e1a81bf1a346820836a61af58df637c081d6c7  7.549436e+07\n",
      "0x29984d1f9055cafb02dcdd53c54b727902e44975  5.964302e+07\n",
      "0x8ecade7f6c5e2996a455fd73661f171301a3c2d6  4.120359e+07\n",
      "0x39cf16a6bfd99c758b9077270976c288c92747e9  2.001000e+07\n"
     ]
    }
   ],
   "source": [
    "top_price_send = concatenated.groupby('token_to_address').sum()[['value']].sort_values(by='value', ascending = False).head(5)\n",
    "print(\"(ii) The top five recipients based on the market value: \")\n",
    "print(top_price_send)"
   ]
  },
  {
   "cell_type": "markdown",
   "id": "0f95cd3e",
   "metadata": {},
   "source": [
    "According to Etherscan, these are the names of the following recipients:\n",
    "\n",
    "0x28c6c06298d514db089934071355e5743bf21d60 - No name listed\n",
    "\n",
    "0x37e1a81bf1a346820836a61af58df637c081d6c7 - No name listed\n",
    "\n",
    "0x29984d1f9055cafb02dcdd53c54b727902e44975 - No name listed\n",
    "\n",
    "0x8ecade7f6c5e2996a455fd73661f171301a3c2d6 - No name listed\n",
    "\n",
    "0x39cf16a6bfd99c758b9077270976c288c92747e9 - No name listed"
   ]
  },
  {
   "cell_type": "markdown",
   "id": "0444d9a1",
   "metadata": {},
   "source": [
    "### (e) Determine the current balance of the most frequent sender and recipient using Web3 (do not cheat and use Etherscan!).\n"
   ]
  },
  {
   "cell_type": "code",
   "execution_count": 72,
   "id": "0dc9e592",
   "metadata": {},
   "outputs": [
    {
     "name": "stdout",
     "output_type": "stream",
     "text": [
      "True\n"
     ]
    }
   ],
   "source": [
    "APIKey=\"5240fae941cd4b168ad1e19c388aa860\"\n",
    "from web3 import Web3\n",
    "infura_url = \"https://mainnet.infura.io/v3/\" + APIKey\n",
    "web3 = Web3(Web3.HTTPProvider(infura_url))\n",
    "print(web3.isConnected())"
   ]
  },
  {
   "cell_type": "code",
   "execution_count": 76,
   "id": "3ed8495a",
   "metadata": {},
   "outputs": [
    {
     "name": "stdout",
     "output_type": "stream",
     "text": [
      "The current balance of the most frequent sender is \n"
     ]
    },
    {
     "data": {
      "text/plain": [
       "0"
      ]
     },
     "execution_count": 76,
     "metadata": {},
     "output_type": "execute_result"
    }
   ],
   "source": [
    "print(\"The current balance of the most frequent sender is \")\n",
    "web3.eth.getBalance('0xf5ef67632cd2256d939702a126FE2c047d0a07bf')"
   ]
  },
  {
   "cell_type": "markdown",
   "id": "0ccc4bc4",
   "metadata": {},
   "source": [
    "Using toChecksumAddress code to fix capitalization in the hashes to access web3"
   ]
  },
  {
   "cell_type": "code",
   "execution_count": 79,
   "id": "de478776",
   "metadata": {},
   "outputs": [
    {
     "data": {
      "text/plain": [
       "'0x95B564F3B3BaE3f206aa418667bA000AFAFAcc8a'"
      ]
     },
     "execution_count": 79,
     "metadata": {},
     "output_type": "execute_result"
    }
   ],
   "source": [
    "Web3.toChecksumAddress('0x95b564f3b3bae3f206aa418667ba000afafacc8a')"
   ]
  },
  {
   "cell_type": "code",
   "execution_count": 80,
   "id": "a48606ab",
   "metadata": {},
   "outputs": [
    {
     "name": "stdout",
     "output_type": "stream",
     "text": [
      "The current balance of the most frequent recipient is \n"
     ]
    },
    {
     "data": {
      "text/plain": [
       "4096443391932253660"
      ]
     },
     "execution_count": 80,
     "metadata": {},
     "output_type": "execute_result"
    }
   ],
   "source": [
    "print(\"The current balance of the most frequent recipient is \")\n",
    "web3.eth.getBalance('0x95B564F3B3BaE3f206aa418667bA000AFAFAcc8a')"
   ]
  },
  {
   "cell_type": "markdown",
   "id": "2d4a4095",
   "metadata": {},
   "source": [
    "# 4. Computer the average daily off-chain volumes:"
   ]
  },
  {
   "cell_type": "markdown",
   "id": "554896d5",
   "metadata": {},
   "source": [
    "### (a) From Coingecko.com, obtain the average daily volume on the centralized exchange inthe USD pair across all centralized exchanges."
   ]
  },
  {
   "cell_type": "markdown",
   "id": "a49e0373",
   "metadata": {},
   "source": [
    "For 7/1/2022, the daily volume was $22,866,439\n",
    "\n",
    "For 7/2/2022, the daily volume was $21,172,239\n",
    "\n",
    "The average daily volume was $22,019,339"
   ]
  },
  {
   "cell_type": "markdown",
   "id": "c9c441ad",
   "metadata": {},
   "source": [
    "### (b) From nomics.com, obtain the Coinbase volume for that pair. (Holo isn't listed on Coinbase, evaluating other exchanges)"
   ]
  },
  {
   "cell_type": "markdown",
   "id": "706228b3",
   "metadata": {},
   "source": [
    "The volume on Binance for HOT/USDT is $4,371,426"
   ]
  },
  {
   "cell_type": "code",
   "execution_count": null,
   "id": "c19ce6b9",
   "metadata": {},
   "outputs": [],
   "source": []
  }
 ],
 "metadata": {
  "kernelspec": {
   "display_name": "Python 3 (ipykernel)",
   "language": "python",
   "name": "python3"
  },
  "language_info": {
   "codemirror_mode": {
    "name": "ipython",
    "version": 3
   },
   "file_extension": ".py",
   "mimetype": "text/x-python",
   "name": "python",
   "nbconvert_exporter": "python",
   "pygments_lexer": "ipython3",
   "version": "3.9.7"
  }
 },
 "nbformat": 4,
 "nbformat_minor": 5
}
