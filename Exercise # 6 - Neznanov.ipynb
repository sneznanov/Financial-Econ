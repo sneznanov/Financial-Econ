{
 "cells": [
  {
   "cell_type": "markdown",
   "id": "55341b59",
   "metadata": {},
   "source": [
    "# Exercise #6 - Sergei Neznanov"
   ]
  },
  {
   "cell_type": "code",
   "execution_count": 4,
   "id": "918cd93a",
   "metadata": {},
   "outputs": [],
   "source": [
    "import pandas as pd\n",
    "import numpy as np\n",
    "import os\n",
    "import statsmodels.formula.api as smf\n",
    "import scipy.stats\n",
    "import math\n",
    "import matplotlib.pyplot as plt\n",
    "import matplotlib.dates as mdates\n",
    "import matplotlib as mpl\n",
    "import pandasql\n",
    "import gc\n",
    "from datetime import datetime\n",
    "import warnings"
   ]
  },
  {
   "cell_type": "markdown",
   "id": "36f71bbd",
   "metadata": {},
   "source": [
    "## 1. TRACE - Corporate Bonds"
   ]
  },
  {
   "cell_type": "code",
   "execution_count": 18,
   "id": "9641fb6a",
   "metadata": {},
   "outputs": [
    {
     "data": {
      "text/html": [
       "<div>\n",
       "<style scoped>\n",
       "    .dataframe tbody tr th:only-of-type {\n",
       "        vertical-align: middle;\n",
       "    }\n",
       "\n",
       "    .dataframe tbody tr th {\n",
       "        vertical-align: top;\n",
       "    }\n",
       "\n",
       "    .dataframe thead th {\n",
       "        text-align: right;\n",
       "    }\n",
       "</style>\n",
       "<table border=\"1\" class=\"dataframe\">\n",
       "  <thead>\n",
       "    <tr style=\"text-align: right;\">\n",
       "      <th></th>\n",
       "      <th>cusip_id</th>\n",
       "      <th>bond_sym_id</th>\n",
       "      <th>company_symbol</th>\n",
       "      <th>trd_exctn_dt</th>\n",
       "      <th>trd_exctn_tm</th>\n",
       "      <th>trd_rpt_dt</th>\n",
       "      <th>trd_rpt_tm</th>\n",
       "      <th>msg_seq_nb</th>\n",
       "      <th>trc_st</th>\n",
       "      <th>scrty_type_cd</th>\n",
       "      <th>...</th>\n",
       "      <th>sub_prdct</th>\n",
       "      <th>stlmnt_dt</th>\n",
       "      <th>trd_mod_3</th>\n",
       "      <th>trd_mod_4</th>\n",
       "      <th>rptg_party_type</th>\n",
       "      <th>lckd_in_ind</th>\n",
       "      <th>ats_indicator</th>\n",
       "      <th>pr_trd_dt</th>\n",
       "      <th>first_trade_ctrl_date</th>\n",
       "      <th>first_trade_ctrl_num</th>\n",
       "    </tr>\n",
       "  </thead>\n",
       "  <tbody>\n",
       "    <tr>\n",
       "      <th>0</th>\n",
       "      <td>P0929YAA4</td>\n",
       "      <td>NaN</td>\n",
       "      <td>NaN</td>\n",
       "      <td>20210930</td>\n",
       "      <td>15:51:00</td>\n",
       "      <td>20210930</td>\n",
       "      <td>16:37:35</td>\n",
       "      <td>137111</td>\n",
       "      <td>T</td>\n",
       "      <td>NaN</td>\n",
       "      <td>...</td>\n",
       "      <td>CORP</td>\n",
       "      <td>20211014</td>\n",
       "      <td>NaN</td>\n",
       "      <td>NaN</td>\n",
       "      <td>D</td>\n",
       "      <td>NaN</td>\n",
       "      <td>NaN</td>\n",
       "      <td>NaN</td>\n",
       "      <td>20210930</td>\n",
       "      <td>137111</td>\n",
       "    </tr>\n",
       "    <tr>\n",
       "      <th>1</th>\n",
       "      <td>P0929YAA4</td>\n",
       "      <td>NaN</td>\n",
       "      <td>NaN</td>\n",
       "      <td>20210930</td>\n",
       "      <td>15:51:11</td>\n",
       "      <td>20210930</td>\n",
       "      <td>17:00:23</td>\n",
       "      <td>144757</td>\n",
       "      <td>T</td>\n",
       "      <td>NaN</td>\n",
       "      <td>...</td>\n",
       "      <td>CORP</td>\n",
       "      <td>20211014</td>\n",
       "      <td>NaN</td>\n",
       "      <td>NaN</td>\n",
       "      <td>D</td>\n",
       "      <td>NaN</td>\n",
       "      <td>NaN</td>\n",
       "      <td>NaN</td>\n",
       "      <td>20210930</td>\n",
       "      <td>144757</td>\n",
       "    </tr>\n",
       "    <tr>\n",
       "      <th>2</th>\n",
       "      <td>P0929YAA4</td>\n",
       "      <td>NaN</td>\n",
       "      <td>NaN</td>\n",
       "      <td>20210930</td>\n",
       "      <td>16:07:51</td>\n",
       "      <td>20210930</td>\n",
       "      <td>16:41:17</td>\n",
       "      <td>138066</td>\n",
       "      <td>T</td>\n",
       "      <td>NaN</td>\n",
       "      <td>...</td>\n",
       "      <td>CORP</td>\n",
       "      <td>20211014</td>\n",
       "      <td>Z</td>\n",
       "      <td>NaN</td>\n",
       "      <td>D</td>\n",
       "      <td>NaN</td>\n",
       "      <td>NaN</td>\n",
       "      <td>NaN</td>\n",
       "      <td>20210930</td>\n",
       "      <td>138066</td>\n",
       "    </tr>\n",
       "    <tr>\n",
       "      <th>3</th>\n",
       "      <td>P0929YAA4</td>\n",
       "      <td>NaN</td>\n",
       "      <td>NaN</td>\n",
       "      <td>20210930</td>\n",
       "      <td>16:07:51</td>\n",
       "      <td>20210930</td>\n",
       "      <td>16:42:46</td>\n",
       "      <td>138066</td>\n",
       "      <td>C</td>\n",
       "      <td>NaN</td>\n",
       "      <td>...</td>\n",
       "      <td>CORP</td>\n",
       "      <td>20211014</td>\n",
       "      <td>Z</td>\n",
       "      <td>NaN</td>\n",
       "      <td>D</td>\n",
       "      <td>NaN</td>\n",
       "      <td>NaN</td>\n",
       "      <td>NaN</td>\n",
       "      <td>20210930</td>\n",
       "      <td>138066</td>\n",
       "    </tr>\n",
       "    <tr>\n",
       "      <th>4</th>\n",
       "      <td>P0929YAA4</td>\n",
       "      <td>NaN</td>\n",
       "      <td>NaN</td>\n",
       "      <td>20210930</td>\n",
       "      <td>16:07:51</td>\n",
       "      <td>20210930</td>\n",
       "      <td>16:42:46</td>\n",
       "      <td>138230</td>\n",
       "      <td>R</td>\n",
       "      <td>NaN</td>\n",
       "      <td>...</td>\n",
       "      <td>CORP</td>\n",
       "      <td>20211014</td>\n",
       "      <td>Z</td>\n",
       "      <td>NaN</td>\n",
       "      <td>D</td>\n",
       "      <td>NaN</td>\n",
       "      <td>NaN</td>\n",
       "      <td>20210930.0</td>\n",
       "      <td>20210930</td>\n",
       "      <td>138066</td>\n",
       "    </tr>\n",
       "    <tr>\n",
       "      <th>5</th>\n",
       "      <td>P0929YAA4</td>\n",
       "      <td>NaN</td>\n",
       "      <td>NaN</td>\n",
       "      <td>20210930</td>\n",
       "      <td>16:07:51</td>\n",
       "      <td>20210930</td>\n",
       "      <td>16:44:17</td>\n",
       "      <td>138230</td>\n",
       "      <td>C</td>\n",
       "      <td>NaN</td>\n",
       "      <td>...</td>\n",
       "      <td>CORP</td>\n",
       "      <td>20211014</td>\n",
       "      <td>Z</td>\n",
       "      <td>NaN</td>\n",
       "      <td>D</td>\n",
       "      <td>NaN</td>\n",
       "      <td>NaN</td>\n",
       "      <td>20210930.0</td>\n",
       "      <td>20210930</td>\n",
       "      <td>138066</td>\n",
       "    </tr>\n",
       "    <tr>\n",
       "      <th>6</th>\n",
       "      <td>P0929YAA4</td>\n",
       "      <td>NaN</td>\n",
       "      <td>NaN</td>\n",
       "      <td>20210930</td>\n",
       "      <td>16:07:51</td>\n",
       "      <td>20210930</td>\n",
       "      <td>16:44:17</td>\n",
       "      <td>138319</td>\n",
       "      <td>R</td>\n",
       "      <td>NaN</td>\n",
       "      <td>...</td>\n",
       "      <td>CORP</td>\n",
       "      <td>20211014</td>\n",
       "      <td>Z</td>\n",
       "      <td>NaN</td>\n",
       "      <td>D</td>\n",
       "      <td>NaN</td>\n",
       "      <td>NaN</td>\n",
       "      <td>20210930.0</td>\n",
       "      <td>20210930</td>\n",
       "      <td>138066</td>\n",
       "    </tr>\n",
       "    <tr>\n",
       "      <th>7</th>\n",
       "      <td>P0929YAA4</td>\n",
       "      <td>NaN</td>\n",
       "      <td>NaN</td>\n",
       "      <td>20210930</td>\n",
       "      <td>16:07:51</td>\n",
       "      <td>20210930</td>\n",
       "      <td>16:45:26</td>\n",
       "      <td>138319</td>\n",
       "      <td>X</td>\n",
       "      <td>NaN</td>\n",
       "      <td>...</td>\n",
       "      <td>CORP</td>\n",
       "      <td>20211014</td>\n",
       "      <td>Z</td>\n",
       "      <td>NaN</td>\n",
       "      <td>D</td>\n",
       "      <td>NaN</td>\n",
       "      <td>NaN</td>\n",
       "      <td>20210930.0</td>\n",
       "      <td>20210930</td>\n",
       "      <td>138066</td>\n",
       "    </tr>\n",
       "    <tr>\n",
       "      <th>8</th>\n",
       "      <td>P0929YAA4</td>\n",
       "      <td>NaN</td>\n",
       "      <td>NaN</td>\n",
       "      <td>20210930</td>\n",
       "      <td>16:07:51</td>\n",
       "      <td>20210930</td>\n",
       "      <td>16:46:33</td>\n",
       "      <td>138640</td>\n",
       "      <td>T</td>\n",
       "      <td>NaN</td>\n",
       "      <td>...</td>\n",
       "      <td>CORP</td>\n",
       "      <td>20211014</td>\n",
       "      <td>NaN</td>\n",
       "      <td>NaN</td>\n",
       "      <td>D</td>\n",
       "      <td>NaN</td>\n",
       "      <td>NaN</td>\n",
       "      <td>NaN</td>\n",
       "      <td>20210930</td>\n",
       "      <td>138640</td>\n",
       "    </tr>\n",
       "    <tr>\n",
       "      <th>9</th>\n",
       "      <td>P0929YAA4</td>\n",
       "      <td>NaN</td>\n",
       "      <td>NaN</td>\n",
       "      <td>20210930</td>\n",
       "      <td>16:07:59</td>\n",
       "      <td>20210930</td>\n",
       "      <td>16:56:31</td>\n",
       "      <td>143487</td>\n",
       "      <td>T</td>\n",
       "      <td>NaN</td>\n",
       "      <td>...</td>\n",
       "      <td>CORP</td>\n",
       "      <td>20211014</td>\n",
       "      <td>NaN</td>\n",
       "      <td>NaN</td>\n",
       "      <td>D</td>\n",
       "      <td>NaN</td>\n",
       "      <td>NaN</td>\n",
       "      <td>NaN</td>\n",
       "      <td>20210930</td>\n",
       "      <td>143487</td>\n",
       "    </tr>\n",
       "  </tbody>\n",
       "</table>\n",
       "<p>10 rows × 42 columns</p>\n",
       "</div>"
      ],
      "text/plain": [
       "    cusip_id bond_sym_id company_symbol  trd_exctn_dt trd_exctn_tm  \\\n",
       "0  P0929YAA4         NaN            NaN      20210930     15:51:00   \n",
       "1  P0929YAA4         NaN            NaN      20210930     15:51:11   \n",
       "2  P0929YAA4         NaN            NaN      20210930     16:07:51   \n",
       "3  P0929YAA4         NaN            NaN      20210930     16:07:51   \n",
       "4  P0929YAA4         NaN            NaN      20210930     16:07:51   \n",
       "5  P0929YAA4         NaN            NaN      20210930     16:07:51   \n",
       "6  P0929YAA4         NaN            NaN      20210930     16:07:51   \n",
       "7  P0929YAA4         NaN            NaN      20210930     16:07:51   \n",
       "8  P0929YAA4         NaN            NaN      20210930     16:07:51   \n",
       "9  P0929YAA4         NaN            NaN      20210930     16:07:59   \n",
       "\n",
       "   trd_rpt_dt trd_rpt_tm  msg_seq_nb trc_st  scrty_type_cd  ... sub_prdct  \\\n",
       "0    20210930   16:37:35      137111      T            NaN  ...      CORP   \n",
       "1    20210930   17:00:23      144757      T            NaN  ...      CORP   \n",
       "2    20210930   16:41:17      138066      T            NaN  ...      CORP   \n",
       "3    20210930   16:42:46      138066      C            NaN  ...      CORP   \n",
       "4    20210930   16:42:46      138230      R            NaN  ...      CORP   \n",
       "5    20210930   16:44:17      138230      C            NaN  ...      CORP   \n",
       "6    20210930   16:44:17      138319      R            NaN  ...      CORP   \n",
       "7    20210930   16:45:26      138319      X            NaN  ...      CORP   \n",
       "8    20210930   16:46:33      138640      T            NaN  ...      CORP   \n",
       "9    20210930   16:56:31      143487      T            NaN  ...      CORP   \n",
       "\n",
       "  stlmnt_dt  trd_mod_3  trd_mod_4 rptg_party_type  lckd_in_ind  ats_indicator  \\\n",
       "0  20211014        NaN        NaN               D          NaN            NaN   \n",
       "1  20211014        NaN        NaN               D          NaN            NaN   \n",
       "2  20211014          Z        NaN               D          NaN            NaN   \n",
       "3  20211014          Z        NaN               D          NaN            NaN   \n",
       "4  20211014          Z        NaN               D          NaN            NaN   \n",
       "5  20211014          Z        NaN               D          NaN            NaN   \n",
       "6  20211014          Z        NaN               D          NaN            NaN   \n",
       "7  20211014          Z        NaN               D          NaN            NaN   \n",
       "8  20211014        NaN        NaN               D          NaN            NaN   \n",
       "9  20211014        NaN        NaN               D          NaN            NaN   \n",
       "\n",
       "    pr_trd_dt  first_trade_ctrl_date  first_trade_ctrl_num  \n",
       "0         NaN               20210930                137111  \n",
       "1         NaN               20210930                144757  \n",
       "2         NaN               20210930                138066  \n",
       "3         NaN               20210930                138066  \n",
       "4  20210930.0               20210930                138066  \n",
       "5  20210930.0               20210930                138066  \n",
       "6  20210930.0               20210930                138066  \n",
       "7  20210930.0               20210930                138066  \n",
       "8         NaN               20210930                138640  \n",
       "9         NaN               20210930                143487  \n",
       "\n",
       "[10 rows x 42 columns]"
      ]
     },
     "execution_count": 18,
     "metadata": {},
     "output_type": "execute_result"
    }
   ],
   "source": [
    "warnings.filterwarnings('ignore')\n",
    "infile='enhanced_trace_2021_09_30.csv'\n",
    "trace=pd.read_csv(infile)\n",
    "\n",
    "trace.head(10)"
   ]
  },
  {
   "cell_type": "markdown",
   "id": "cefa9cdc",
   "metadata": {},
   "source": [
    "### (a) How many corporate bond trades were there."
   ]
  },
  {
   "cell_type": "code",
   "execution_count": 12,
   "id": "62c948ec",
   "metadata": {},
   "outputs": [
    {
     "name": "stdout",
     "output_type": "stream",
     "text": [
      "The number of corporate bond trades is 120286\n"
     ]
    }
   ],
   "source": [
    "print(\"The number of corporate bond trades is\",len(trace))"
   ]
  },
  {
   "cell_type": "markdown",
   "id": "57a4abf8",
   "metadata": {},
   "source": [
    "### (b) How many CUSIPs traded."
   ]
  },
  {
   "cell_type": "code",
   "execution_count": 11,
   "id": "3edfbf3e",
   "metadata": {},
   "outputs": [
    {
     "name": "stdout",
     "output_type": "stream",
     "text": [
      "Different CUSIPs traded  =  10397\n"
     ]
    }
   ],
   "source": [
    "cusip_count=trace['cusip_id'].nunique()\n",
    "print(\"Different CUSIPs traded  = \",cusip_count)"
   ]
  },
  {
   "cell_type": "markdown",
   "id": "0de6fd14",
   "metadata": {},
   "source": [
    "### (c) What was the dollar par volume traded."
   ]
  },
  {
   "cell_type": "code",
   "execution_count": 19,
   "id": "38f6d52b",
   "metadata": {},
   "outputs": [
    {
     "data": {
      "text/plain": [
       "cusip_id                  object\n",
       "bond_sym_id               object\n",
       "company_symbol            object\n",
       "trd_exctn_dt               int64\n",
       "trd_exctn_tm              object\n",
       "trd_rpt_dt                 int64\n",
       "trd_rpt_tm                object\n",
       "msg_seq_nb                 int64\n",
       "trc_st                    object\n",
       "scrty_type_cd            float64\n",
       "wis_fl                    object\n",
       "cmsn_trd                  object\n",
       "entrd_vol_qt             float64\n",
       "rptd_pr                  float64\n",
       "yld_sign_cd               object\n",
       "yld_pt                   float64\n",
       "asof_cd                  float64\n",
       "days_to_sttl_ct          float64\n",
       "sale_cndtn_cd            float64\n",
       "sale_cndtn2_cd           float64\n",
       "rpt_side_cd               object\n",
       "buy_cmsn_rt              float64\n",
       "buy_cpcty_cd              object\n",
       "sell_cmsn_rt             float64\n",
       "sell_cpcty_cd             object\n",
       "cntra_mp_id               object\n",
       "agu_qsr_id               float64\n",
       "spcl_trd_fl               object\n",
       "trdg_mkt_cd               object\n",
       "dissem_fl                 object\n",
       "orig_msg_seq_nb          float64\n",
       "bloomberg_identifier      object\n",
       "sub_prdct                 object\n",
       "stlmnt_dt                  int64\n",
       "trd_mod_3                 object\n",
       "trd_mod_4                 object\n",
       "rptg_party_type           object\n",
       "lckd_in_ind               object\n",
       "ats_indicator             object\n",
       "pr_trd_dt                float64\n",
       "first_trade_ctrl_date      int64\n",
       "first_trade_ctrl_num       int64\n",
       "dtype: object"
      ]
     },
     "execution_count": 19,
     "metadata": {},
     "output_type": "execute_result"
    }
   ],
   "source": [
    "trace.dtypes"
   ]
  },
  {
   "cell_type": "code",
   "execution_count": 20,
   "id": "20e51f47",
   "metadata": {},
   "outputs": [
    {
     "name": "stdout",
     "output_type": "stream",
     "text": [
      "ATS par volume $bn =  5.855521376780001\n"
     ]
    }
   ],
   "source": [
    "trace.rename(columns={'rptd_pr':'tprice','entrd_vol_qt':'volume','ATS_indicator':'ats_indicator'},inplace=True)\n",
    "volume_tot = trace['volume'].sum()\n",
    "ats_trades = trace.query('ats_indicator == \"Y\"')\n",
    "n_trades_ats = ats_trades['volume'].count()\n",
    "volume_tot_ats = ats_trades['volume'].sum()\n",
    "print('ATS par volume $bn = ',(1/1000000000)*volume_tot_ats)"
   ]
  },
  {
   "cell_type": "markdown",
   "id": "e452dbed",
   "metadata": {},
   "source": [
    "### (d) What was the average trade size."
   ]
  },
  {
   "cell_type": "code",
   "execution_count": 22,
   "id": "14c0d0dc",
   "metadata": {},
   "outputs": [
    {
     "name": "stdout",
     "output_type": "stream",
     "text": [
      "Average trade size $mn =  0.4542471734304906\n"
     ]
    }
   ],
   "source": [
    "volume_tot = trace['volume'].sum()\n",
    "n_trades = trace['volume'].count()\n",
    "print('Average trade size $mn = ',(1/1000000)*volume_tot/n_trades)"
   ]
  },
  {
   "cell_type": "markdown",
   "id": "e1322d01",
   "metadata": {},
   "source": [
    "### (e) What was the par volume on customer transactions (Contra Party Indicator = C)."
   ]
  },
  {
   "cell_type": "code",
   "execution_count": 24,
   "id": "626503e5",
   "metadata": {},
   "outputs": [
    {
     "data": {
      "text/plain": [
       "D    59710\n",
       "C    52697\n",
       "A     4849\n",
       "T     3030\n",
       "Name: cntra_mp_id, dtype: int64"
      ]
     },
     "execution_count": 24,
     "metadata": {},
     "output_type": "execute_result"
    }
   ],
   "source": [
    "trace['cntra_mp_id'].value_counts()"
   ]
  },
  {
   "cell_type": "code",
   "execution_count": 25,
   "id": "bc4dfcb3",
   "metadata": {},
   "outputs": [
    {
     "name": "stdout",
     "output_type": "stream",
     "text": [
      "Customer transactions par volume $bn =  31.533558013959997\n"
     ]
    }
   ],
   "source": [
    "volume_tot = trace['volume'].sum()\n",
    "C_trades = trace.query('cntra_mp_id == \"C\"')\n",
    "n_trades_C = C_trades['volume'].count()\n",
    "volume_tot_C = C_trades['volume'].sum()\n",
    "print('Customer transactions par volume $bn = ',(1/1000000000)*volume_tot_C)"
   ]
  },
  {
   "cell_type": "markdown",
   "id": "d8760a01",
   "metadata": {},
   "source": [
    "### (f) What was the average trade size on customer transactions"
   ]
  },
  {
   "cell_type": "code",
   "execution_count": 26,
   "id": "4d9717ff",
   "metadata": {},
   "outputs": [
    {
     "name": "stdout",
     "output_type": "stream",
     "text": [
      "Average trade size on customer transactions $mn =  0.5983937987733646\n"
     ]
    }
   ],
   "source": [
    "n_trades_C = C_trades['volume'].count()\n",
    "volume_tot_C = C_trades['volume'].sum()\n",
    "print('Average trade size on customer transactions $mn = ',(1/1000000)*volume_tot_C/n_trades_C)"
   ]
  },
  {
   "cell_type": "markdown",
   "id": "f19e81ae",
   "metadata": {},
   "source": [
    "### (g) For the CUSIP 48666KAR0, what was the Thompson-Waller bid-ask spread."
   ]
  },
  {
   "cell_type": "code",
   "execution_count": 27,
   "id": "9aef2c0c",
   "metadata": {},
   "outputs": [
    {
     "data": {
      "text/html": [
       "<div>\n",
       "<style scoped>\n",
       "    .dataframe tbody tr th:only-of-type {\n",
       "        vertical-align: middle;\n",
       "    }\n",
       "\n",
       "    .dataframe tbody tr th {\n",
       "        vertical-align: top;\n",
       "    }\n",
       "\n",
       "    .dataframe thead th {\n",
       "        text-align: right;\n",
       "    }\n",
       "</style>\n",
       "<table border=\"1\" class=\"dataframe\">\n",
       "  <thead>\n",
       "    <tr style=\"text-align: right;\">\n",
       "      <th></th>\n",
       "      <th>cusip_id</th>\n",
       "      <th>bond_sym_id</th>\n",
       "      <th>company_symbol</th>\n",
       "      <th>trd_exctn_dt</th>\n",
       "      <th>trd_exctn_tm</th>\n",
       "      <th>trd_rpt_dt</th>\n",
       "      <th>trd_rpt_tm</th>\n",
       "      <th>msg_seq_nb</th>\n",
       "      <th>trc_st</th>\n",
       "      <th>scrty_type_cd</th>\n",
       "      <th>...</th>\n",
       "      <th>sub_prdct</th>\n",
       "      <th>stlmnt_dt</th>\n",
       "      <th>trd_mod_3</th>\n",
       "      <th>trd_mod_4</th>\n",
       "      <th>rptg_party_type</th>\n",
       "      <th>lckd_in_ind</th>\n",
       "      <th>ats_indicator</th>\n",
       "      <th>pr_trd_dt</th>\n",
       "      <th>first_trade_ctrl_date</th>\n",
       "      <th>first_trade_ctrl_num</th>\n",
       "    </tr>\n",
       "  </thead>\n",
       "  <tbody>\n",
       "    <tr>\n",
       "      <th>72803</th>\n",
       "      <td>48666KAR0</td>\n",
       "      <td>KBH3881674</td>\n",
       "      <td>KBH</td>\n",
       "      <td>20210930</td>\n",
       "      <td>8:41:14</td>\n",
       "      <td>20210930</td>\n",
       "      <td>8:41:14</td>\n",
       "      <td>4375</td>\n",
       "      <td>T</td>\n",
       "      <td>NaN</td>\n",
       "      <td>...</td>\n",
       "      <td>CORP</td>\n",
       "      <td>20211004</td>\n",
       "      <td>NaN</td>\n",
       "      <td>NaN</td>\n",
       "      <td>D</td>\n",
       "      <td>NaN</td>\n",
       "      <td>NaN</td>\n",
       "      <td>NaN</td>\n",
       "      <td>20210930</td>\n",
       "      <td>4375</td>\n",
       "    </tr>\n",
       "    <tr>\n",
       "      <th>72804</th>\n",
       "      <td>48666KAR0</td>\n",
       "      <td>KBH3881674</td>\n",
       "      <td>KBH</td>\n",
       "      <td>20210930</td>\n",
       "      <td>8:41:14</td>\n",
       "      <td>20210930</td>\n",
       "      <td>8:41:14</td>\n",
       "      <td>4376</td>\n",
       "      <td>T</td>\n",
       "      <td>NaN</td>\n",
       "      <td>...</td>\n",
       "      <td>CORP</td>\n",
       "      <td>20211004</td>\n",
       "      <td>NaN</td>\n",
       "      <td>NaN</td>\n",
       "      <td>D</td>\n",
       "      <td>NaN</td>\n",
       "      <td>NaN</td>\n",
       "      <td>NaN</td>\n",
       "      <td>20210930</td>\n",
       "      <td>4376</td>\n",
       "    </tr>\n",
       "    <tr>\n",
       "      <th>72805</th>\n",
       "      <td>48666KAR0</td>\n",
       "      <td>KBH3881674</td>\n",
       "      <td>KBH</td>\n",
       "      <td>20210930</td>\n",
       "      <td>8:41:14</td>\n",
       "      <td>20210930</td>\n",
       "      <td>8:41:18</td>\n",
       "      <td>4383</td>\n",
       "      <td>T</td>\n",
       "      <td>NaN</td>\n",
       "      <td>...</td>\n",
       "      <td>CORP</td>\n",
       "      <td>20211004</td>\n",
       "      <td>NaN</td>\n",
       "      <td>NaN</td>\n",
       "      <td>D</td>\n",
       "      <td>NaN</td>\n",
       "      <td>NaN</td>\n",
       "      <td>NaN</td>\n",
       "      <td>20210930</td>\n",
       "      <td>4383</td>\n",
       "    </tr>\n",
       "    <tr>\n",
       "      <th>72806</th>\n",
       "      <td>48666KAR0</td>\n",
       "      <td>KBH3881674</td>\n",
       "      <td>KBH</td>\n",
       "      <td>20210930</td>\n",
       "      <td>8:41:14</td>\n",
       "      <td>20210930</td>\n",
       "      <td>8:41:20</td>\n",
       "      <td>4388</td>\n",
       "      <td>T</td>\n",
       "      <td>NaN</td>\n",
       "      <td>...</td>\n",
       "      <td>CORP</td>\n",
       "      <td>20211004</td>\n",
       "      <td>NaN</td>\n",
       "      <td>NaN</td>\n",
       "      <td>D</td>\n",
       "      <td>NaN</td>\n",
       "      <td>NaN</td>\n",
       "      <td>NaN</td>\n",
       "      <td>20210930</td>\n",
       "      <td>4388</td>\n",
       "    </tr>\n",
       "    <tr>\n",
       "      <th>72807</th>\n",
       "      <td>48666KAR0</td>\n",
       "      <td>KBH3881674</td>\n",
       "      <td>KBH</td>\n",
       "      <td>20210930</td>\n",
       "      <td>8:41:14</td>\n",
       "      <td>20210930</td>\n",
       "      <td>8:41:59</td>\n",
       "      <td>4420</td>\n",
       "      <td>T</td>\n",
       "      <td>NaN</td>\n",
       "      <td>...</td>\n",
       "      <td>CORP</td>\n",
       "      <td>20211004</td>\n",
       "      <td>NaN</td>\n",
       "      <td>NaN</td>\n",
       "      <td>D</td>\n",
       "      <td>NaN</td>\n",
       "      <td>NaN</td>\n",
       "      <td>NaN</td>\n",
       "      <td>20210930</td>\n",
       "      <td>4420</td>\n",
       "    </tr>\n",
       "  </tbody>\n",
       "</table>\n",
       "<p>5 rows × 42 columns</p>\n",
       "</div>"
      ],
      "text/plain": [
       "        cusip_id bond_sym_id company_symbol  trd_exctn_dt trd_exctn_tm  \\\n",
       "72803  48666KAR0  KBH3881674            KBH      20210930      8:41:14   \n",
       "72804  48666KAR0  KBH3881674            KBH      20210930      8:41:14   \n",
       "72805  48666KAR0  KBH3881674            KBH      20210930      8:41:14   \n",
       "72806  48666KAR0  KBH3881674            KBH      20210930      8:41:14   \n",
       "72807  48666KAR0  KBH3881674            KBH      20210930      8:41:14   \n",
       "\n",
       "       trd_rpt_dt trd_rpt_tm  msg_seq_nb trc_st  scrty_type_cd  ... sub_prdct  \\\n",
       "72803    20210930    8:41:14        4375      T            NaN  ...      CORP   \n",
       "72804    20210930    8:41:14        4376      T            NaN  ...      CORP   \n",
       "72805    20210930    8:41:18        4383      T            NaN  ...      CORP   \n",
       "72806    20210930    8:41:20        4388      T            NaN  ...      CORP   \n",
       "72807    20210930    8:41:59        4420      T            NaN  ...      CORP   \n",
       "\n",
       "      stlmnt_dt  trd_mod_3  trd_mod_4 rptg_party_type  lckd_in_ind  \\\n",
       "72803  20211004        NaN        NaN               D          NaN   \n",
       "72804  20211004        NaN        NaN               D          NaN   \n",
       "72805  20211004        NaN        NaN               D          NaN   \n",
       "72806  20211004        NaN        NaN               D          NaN   \n",
       "72807  20211004        NaN        NaN               D          NaN   \n",
       "\n",
       "       ats_indicator  pr_trd_dt  first_trade_ctrl_date  first_trade_ctrl_num  \n",
       "72803            NaN        NaN               20210930                  4375  \n",
       "72804            NaN        NaN               20210930                  4376  \n",
       "72805            NaN        NaN               20210930                  4383  \n",
       "72806            NaN        NaN               20210930                  4388  \n",
       "72807            NaN        NaN               20210930                  4420  \n",
       "\n",
       "[5 rows x 42 columns]"
      ]
     },
     "execution_count": 27,
     "metadata": {},
     "output_type": "execute_result"
    }
   ],
   "source": [
    "\n",
    "trace_data_bond1 = trace.query('cusip_id==\"48666KAR0\"')\n",
    "trace_data_bond1.head()"
   ]
  },
  {
   "cell_type": "code",
   "execution_count": 28,
   "id": "14b37284",
   "metadata": {},
   "outputs": [
    {
     "name": "stdout",
     "output_type": "stream",
     "text": [
      "TW spread =  0.06716666666666289\n"
     ]
    }
   ],
   "source": [
    "ntrade = 0\n",
    "sum_diff = 0\n",
    "trace_data_bond1['lag_price']=trace_data_bond1['tprice'].shift()\n",
    "for i in range(1,len(trace_data_bond1)):\n",
    "    diffp = trace_data_bond1['tprice'].iloc[i]-trace_data_bond1['lag_price'].iloc[i]\n",
    "    if(diffp>0):\n",
    "        sum_diff = abs(diffp) + sum_diff\n",
    "        ntrade +=1\n",
    "if ntrade>0:\n",
    "    print(\"TW spread = \",sum_diff/ntrade)"
   ]
  },
  {
   "cell_type": "markdown",
   "id": "cf297252",
   "metadata": {},
   "source": [
    "## 2. Mergent Ratings"
   ]
  },
  {
   "cell_type": "code",
   "execution_count": 1,
   "id": "4a16392b",
   "metadata": {},
   "outputs": [],
   "source": [
    "import pandas as pd\n",
    "from datetime import datetime\n",
    "from datetime import date\n",
    "from os import listdir\n",
    "from os.path import isfile, join\n",
    "import numpy as np\n",
    "import math\n",
    "import matplotlib.pyplot as plt\n",
    "import matplotlib.dates as mdates\n",
    "import pandasql\n",
    "import warnings"
   ]
  },
  {
   "cell_type": "code",
   "execution_count": 2,
   "id": "f48f1d28",
   "metadata": {},
   "outputs": [
    {
     "data": {
      "text/html": [
       "<div>\n",
       "<style scoped>\n",
       "    .dataframe tbody tr th:only-of-type {\n",
       "        vertical-align: middle;\n",
       "    }\n",
       "\n",
       "    .dataframe tbody tr th {\n",
       "        vertical-align: top;\n",
       "    }\n",
       "\n",
       "    .dataframe thead th {\n",
       "        text-align: right;\n",
       "    }\n",
       "</style>\n",
       "<table border=\"1\" class=\"dataframe\">\n",
       "  <thead>\n",
       "    <tr style=\"text-align: right;\">\n",
       "      <th></th>\n",
       "      <th>BOND_TYPE</th>\n",
       "      <th>COMPLETE_CUSIP</th>\n",
       "      <th>ISSUE_ID</th>\n",
       "      <th>RATING_TYPE</th>\n",
       "      <th>RATING_DATE</th>\n",
       "      <th>RATING</th>\n",
       "      <th>RATING_STATUS</th>\n",
       "      <th>REASON</th>\n",
       "      <th>RATING_STATUS_DATE</th>\n",
       "      <th>INVESTMENT_GRADE</th>\n",
       "      <th>ISSUER_ID</th>\n",
       "      <th>PROSPECTUS_ISSUER_NAME</th>\n",
       "      <th>ISSUER_CUSIP</th>\n",
       "      <th>ISSUE_CUSIP</th>\n",
       "      <th>ISSUE_NAME</th>\n",
       "      <th>MATURITY</th>\n",
       "      <th>OFFERING_DATE</th>\n",
       "    </tr>\n",
       "  </thead>\n",
       "  <tbody>\n",
       "    <tr>\n",
       "      <th>0</th>\n",
       "      <td>CDEB</td>\n",
       "      <td>201615CY5</td>\n",
       "      <td>4909.0</td>\n",
       "      <td>FR</td>\n",
       "      <td>20200422.0</td>\n",
       "      <td>A</td>\n",
       "      <td>NaN</td>\n",
       "      <td>AFRM</td>\n",
       "      <td>NaN</td>\n",
       "      <td>Y</td>\n",
       "      <td>1018.0</td>\n",
       "      <td>COMMERCIAL CR GROUP INC</td>\n",
       "      <td>201615</td>\n",
       "      <td>CY5</td>\n",
       "      <td>NT</td>\n",
       "      <td>20250201.0</td>\n",
       "      <td>19950203.0</td>\n",
       "    </tr>\n",
       "    <tr>\n",
       "      <th>1</th>\n",
       "      <td>CDEB</td>\n",
       "      <td>652478AX6</td>\n",
       "      <td>16425.0</td>\n",
       "      <td>SPR</td>\n",
       "      <td>20200423.0</td>\n",
       "      <td>A-</td>\n",
       "      <td>WNEG</td>\n",
       "      <td>DNG</td>\n",
       "      <td>20200423.0</td>\n",
       "      <td>Y</td>\n",
       "      <td>2977.0</td>\n",
       "      <td>NEWS AMER HLDGS INC</td>\n",
       "      <td>652478</td>\n",
       "      <td>AX6</td>\n",
       "      <td>SR DEB</td>\n",
       "      <td>20250223.0</td>\n",
       "      <td>19950215.0</td>\n",
       "    </tr>\n",
       "    <tr>\n",
       "      <th>2</th>\n",
       "      <td>CDEB</td>\n",
       "      <td>695629AR6</td>\n",
       "      <td>17698.0</td>\n",
       "      <td>FR</td>\n",
       "      <td>20200114.0</td>\n",
       "      <td>NR</td>\n",
       "      <td>NaN</td>\n",
       "      <td>WITH</td>\n",
       "      <td>NaN</td>\n",
       "      <td>NaN</td>\n",
       "      <td>3206.0</td>\n",
       "      <td>PAINE WEBBER GROUP INC</td>\n",
       "      <td>695629</td>\n",
       "      <td>AR6</td>\n",
       "      <td>NT</td>\n",
       "      <td>20050315.0</td>\n",
       "      <td>19950313.0</td>\n",
       "    </tr>\n",
       "    <tr>\n",
       "      <th>3</th>\n",
       "      <td>CDEB</td>\n",
       "      <td>913026AT7</td>\n",
       "      <td>23145.0</td>\n",
       "      <td>FR</td>\n",
       "      <td>20200409.0</td>\n",
       "      <td>BBB-</td>\n",
       "      <td>NaN</td>\n",
       "      <td>AFRM</td>\n",
       "      <td>NaN</td>\n",
       "      <td>Y</td>\n",
       "      <td>4356.0</td>\n",
       "      <td>UNITED TEL CO FLA</td>\n",
       "      <td>913026</td>\n",
       "      <td>AT7</td>\n",
       "      <td>1ST MTG SER HH</td>\n",
       "      <td>20250115.0</td>\n",
       "      <td>19950112.0</td>\n",
       "    </tr>\n",
       "    <tr>\n",
       "      <th>4</th>\n",
       "      <td>CDEB</td>\n",
       "      <td>962166AT1</td>\n",
       "      <td>23790.0</td>\n",
       "      <td>MR</td>\n",
       "      <td>20200129.0</td>\n",
       "      <td>Baa2</td>\n",
       "      <td>WOFF</td>\n",
       "      <td>AFRM</td>\n",
       "      <td>20130422.0</td>\n",
       "      <td>Y</td>\n",
       "      <td>4533.0</td>\n",
       "      <td>WEYERHAEUSER CO</td>\n",
       "      <td>962166</td>\n",
       "      <td>AT1</td>\n",
       "      <td>DEB</td>\n",
       "      <td>20250115.0</td>\n",
       "      <td>19950117.0</td>\n",
       "    </tr>\n",
       "  </tbody>\n",
       "</table>\n",
       "</div>"
      ],
      "text/plain": [
       "  BOND_TYPE COMPLETE_CUSIP  ISSUE_ID RATING_TYPE  RATING_DATE RATING  \\\n",
       "0      CDEB      201615CY5    4909.0          FR   20200422.0      A   \n",
       "1      CDEB      652478AX6   16425.0         SPR   20200423.0     A-   \n",
       "2      CDEB      695629AR6   17698.0          FR   20200114.0     NR   \n",
       "3      CDEB      913026AT7   23145.0          FR   20200409.0   BBB-   \n",
       "4      CDEB      962166AT1   23790.0          MR   20200129.0   Baa2   \n",
       "\n",
       "  RATING_STATUS REASON  RATING_STATUS_DATE INVESTMENT_GRADE  ISSUER_ID  \\\n",
       "0           NaN   AFRM                 NaN                Y     1018.0   \n",
       "1          WNEG    DNG          20200423.0                Y     2977.0   \n",
       "2           NaN   WITH                 NaN              NaN     3206.0   \n",
       "3           NaN   AFRM                 NaN                Y     4356.0   \n",
       "4          WOFF   AFRM          20130422.0                Y     4533.0   \n",
       "\n",
       "    PROSPECTUS_ISSUER_NAME ISSUER_CUSIP ISSUE_CUSIP      ISSUE_NAME  \\\n",
       "0  COMMERCIAL CR GROUP INC       201615         CY5              NT   \n",
       "1      NEWS AMER HLDGS INC       652478         AX6          SR DEB   \n",
       "2   PAINE WEBBER GROUP INC       695629         AR6              NT   \n",
       "3        UNITED TEL CO FLA       913026         AT7  1ST MTG SER HH   \n",
       "4          WEYERHAEUSER CO       962166         AT1             DEB   \n",
       "\n",
       "     MATURITY  OFFERING_DATE  \n",
       "0  20250201.0     19950203.0  \n",
       "1  20250223.0     19950215.0  \n",
       "2  20050315.0     19950313.0  \n",
       "3  20250115.0     19950112.0  \n",
       "4  20250115.0     19950117.0  "
      ]
     },
     "execution_count": 2,
     "metadata": {},
     "output_type": "execute_result"
    }
   ],
   "source": [
    "infile = 'mergent_corp_bond_ratings_2020.csv'\n",
    "mergent_ratings=pd.read_csv(infile)\n",
    "mergent_ratings.head()"
   ]
  },
  {
   "cell_type": "markdown",
   "id": "0c13f83a",
   "metadata": {},
   "source": [
    "## (a) In the entire data set, how many ratings are there for (i) Moody’s; (ii) S&P and (iii) Fitch?"
   ]
  },
  {
   "cell_type": "markdown",
   "id": "00a9b7ee",
   "metadata": {},
   "source": [
    "###               (i) Moody's"
   ]
  },
  {
   "cell_type": "code",
   "execution_count": 4,
   "id": "26e78b03",
   "metadata": {},
   "outputs": [],
   "source": [
    "moody_mergent=mergent_ratings.query('RATING_TYPE==\"MR\"')"
   ]
  },
  {
   "cell_type": "code",
   "execution_count": 5,
   "id": "7fe73f8c",
   "metadata": {},
   "outputs": [
    {
     "name": "stdout",
     "output_type": "stream",
     "text": [
      "There are  8687 ratings for Moody's.\n"
     ]
    }
   ],
   "source": [
    "print(\"There are \", len(moody_mergent), \"ratings for Moody's.\")"
   ]
  },
  {
   "cell_type": "markdown",
   "id": "403c4da1",
   "metadata": {},
   "source": [
    "### (ii)S&P"
   ]
  },
  {
   "cell_type": "code",
   "execution_count": 6,
   "id": "dd826a8a",
   "metadata": {},
   "outputs": [
    {
     "name": "stdout",
     "output_type": "stream",
     "text": [
      "There are  6860 ratings for S&P.\n"
     ]
    }
   ],
   "source": [
    "sp_mergent=mergent_ratings.query('RATING_TYPE==\"SPR\"')\n",
    "print(\"There are \", len(sp_mergent), \"ratings for S&P.\")"
   ]
  },
  {
   "cell_type": "markdown",
   "id": "5691b4ba",
   "metadata": {},
   "source": [
    "### (iii)Fitch"
   ]
  },
  {
   "cell_type": "code",
   "execution_count": 7,
   "id": "405c68c8",
   "metadata": {},
   "outputs": [
    {
     "name": "stdout",
     "output_type": "stream",
     "text": [
      "There are  10348 ratings for Fitch.\n"
     ]
    }
   ],
   "source": [
    "f_mergent=mergent_ratings.query('RATING_TYPE==\"FR\"')\n",
    "print(\"There are \", len(f_mergent), \"ratings for Fitch.\")"
   ]
  },
  {
   "cell_type": "markdown",
   "id": "54da9be6",
   "metadata": {},
   "source": [
    "## (b) Plot a separate histogram of the credit ratings for each of the CRAs.\n",
    "###               (i) Moody's"
   ]
  },
  {
   "cell_type": "code",
   "execution_count": 9,
   "id": "6673463f",
   "metadata": {},
   "outputs": [],
   "source": [
    "x = moody_mergent['RATING'].value_counts()"
   ]
  },
  {
   "cell_type": "code",
   "execution_count": 10,
   "id": "44198793",
   "metadata": {},
   "outputs": [
    {
     "data": {
      "text/plain": [
       "NR      1304\n",
       "Baa3    1018\n",
       "Baa2     916\n",
       "Baa1     891\n",
       "A3       619\n",
       "A2       542\n",
       "Ba1      455\n",
       "Ba2      385\n",
       "A1       336\n",
       "Ba3      333\n",
       "B1       295\n",
       "B2       243\n",
       "B3       240\n",
       "Caa1     223\n",
       "Caa2     153\n",
       "Caa3     141\n",
       "C        137\n",
       "Ca       128\n",
       "Aa3      117\n",
       "Aa2      116\n",
       "Aaa       50\n",
       "Aa1       45\n",
       "Name: RATING, dtype: int64"
      ]
     },
     "execution_count": 10,
     "metadata": {},
     "output_type": "execute_result"
    }
   ],
   "source": [
    "x"
   ]
  },
  {
   "cell_type": "code",
   "execution_count": 11,
   "id": "ca8bb008",
   "metadata": {},
   "outputs": [
    {
     "data": {
      "text/plain": [
       "Text(0.5, 1.0, 'Moodys Credit Ratings')"
      ]
     },
     "execution_count": 11,
     "metadata": {},
     "output_type": "execute_result"
    },
    {
     "data": {
      "image/png": "[encoded data removed]",
      "text/plain": [
       "<Figure size 432x288 with 1 Axes>"
      ]
     },
     "metadata": {
      "needs_background": "light"
     },
     "output_type": "display_data"
    }
   ],
   "source": [
    "plt.hist(x)\n",
    "plt.title('Moodys Credit Ratings')"
   ]
  },
  {
   "cell_type": "code",
   "execution_count": 12,
   "id": "7fe8a1f3",
   "metadata": {},
   "outputs": [
    {
     "data": {
      "text/plain": [
       "<AxesSubplot:title={'center':'Moodys Credit Ratings'}>"
      ]
     },
     "execution_count": 12,
     "metadata": {},
     "output_type": "execute_result"
    },
    {
     "data": {
      "image/png": "[encoded data removed]",
      "text/plain": [
       "<Figure size 432x288 with 1 Axes>"
      ]
     },
     "metadata": {
      "needs_background": "light"
     },
     "output_type": "display_data"
    }
   ],
   "source": [
    "moody_mergent['RATING'].value_counts()[:20].plot(kind='bar', title='Moodys Credit Ratings' )"
   ]
  },
  {
   "cell_type": "markdown",
   "id": "4c52ae11",
   "metadata": {},
   "source": [
    "### (ii)S&P"
   ]
  },
  {
   "cell_type": "code",
   "execution_count": 13,
   "id": "a20f4a22",
   "metadata": {},
   "outputs": [
    {
     "data": {
      "text/plain": [
       "<AxesSubplot:title={'center':'S&P Credit Ratings'}>"
      ]
     },
     "execution_count": 13,
     "metadata": {},
     "output_type": "execute_result"
    },
    {
     "data": {
      "image/png": "[encoded data removed]",
      "text/plain": [
       "<Figure size 432x288 with 1 Axes>"
      ]
     },
     "metadata": {
      "needs_background": "light"
     },
     "output_type": "display_data"
    }
   ],
   "source": [
    "sp_mergent['RATING'].value_counts()[:20].plot(kind='bar', title='S&P Credit Ratings' )"
   ]
  },
  {
   "cell_type": "markdown",
   "id": "acea3281",
   "metadata": {},
   "source": [
    "### (iii)Fitch\n"
   ]
  },
  {
   "cell_type": "code",
   "execution_count": 14,
   "id": "c9f74ac8",
   "metadata": {},
   "outputs": [
    {
     "data": {
      "text/plain": [
       "<AxesSubplot:title={'center':'Fitch Credit Ratings'}>"
      ]
     },
     "execution_count": 14,
     "metadata": {},
     "output_type": "execute_result"
    },
    {
     "data": {
      "image/png": "[encoded data removed]",
      "text/plain": [
       "<Figure size 432x288 with 1 Axes>"
      ]
     },
     "metadata": {
      "needs_background": "light"
     },
     "output_type": "display_data"
    }
   ],
   "source": [
    "f_mergent['RATING'].value_counts()[:20].plot(kind='bar', title='Fitch Credit Ratings' )"
   ]
  },
  {
   "cell_type": "markdown",
   "id": "78e83794",
   "metadata": {},
   "source": [
    "## (c) Who is the most frequent issuer (based on the PROSPECTUS ISSUER NAME)?\n"
   ]
  },
  {
   "cell_type": "code",
   "execution_count": 15,
   "id": "70925c94",
   "metadata": {},
   "outputs": [
    {
     "name": "stdout",
     "output_type": "stream",
     "text": [
      "The most frequent issuer and number of bonds is OCCIDENTAL PETE CORP    279\n",
      "Name: PROSPECTUS_ISSUER_NAME, dtype: int64\n"
     ]
    }
   ],
   "source": [
    "print(\"The most frequent issuer and number of bonds is\",mergent_ratings['PROSPECTUS_ISSUER_NAME'].value_counts().nlargest(1))"
   ]
  },
  {
   "cell_type": "markdown",
   "id": "6fce6c46",
   "metadata": {},
   "source": [
    "## (d) What is the maturity structure of the bonds issued by this company?\n"
   ]
  },
  {
   "cell_type": "code",
   "execution_count": 19,
   "id": "cc8d0af0",
   "metadata": {},
   "outputs": [
    {
     "data": {
      "text/html": [
       "<div>\n",
       "<style scoped>\n",
       "    .dataframe tbody tr th:only-of-type {\n",
       "        vertical-align: middle;\n",
       "    }\n",
       "\n",
       "    .dataframe tbody tr th {\n",
       "        vertical-align: top;\n",
       "    }\n",
       "\n",
       "    .dataframe thead th {\n",
       "        text-align: right;\n",
       "    }\n",
       "</style>\n",
       "<table border=\"1\" class=\"dataframe\">\n",
       "  <thead>\n",
       "    <tr style=\"text-align: right;\">\n",
       "      <th></th>\n",
       "      <th>BOND_TYPE</th>\n",
       "      <th>COMPLETE_CUSIP</th>\n",
       "      <th>ISSUE_ID</th>\n",
       "      <th>RATING_TYPE</th>\n",
       "      <th>RATING_DATE</th>\n",
       "      <th>RATING</th>\n",
       "      <th>RATING_STATUS</th>\n",
       "      <th>REASON</th>\n",
       "      <th>RATING_STATUS_DATE</th>\n",
       "      <th>INVESTMENT_GRADE</th>\n",
       "      <th>ISSUER_ID</th>\n",
       "      <th>PROSPECTUS_ISSUER_NAME</th>\n",
       "      <th>ISSUER_CUSIP</th>\n",
       "      <th>ISSUE_CUSIP</th>\n",
       "      <th>ISSUE_NAME</th>\n",
       "      <th>MATURITY</th>\n",
       "      <th>OFFERING_DATE</th>\n",
       "    </tr>\n",
       "  </thead>\n",
       "  <tbody>\n",
       "    <tr>\n",
       "      <th>549</th>\n",
       "      <td>CDEB</td>\n",
       "      <td>674599BM6</td>\n",
       "      <td>71966.0</td>\n",
       "      <td>FR</td>\n",
       "      <td>20200320.0</td>\n",
       "      <td>BB+</td>\n",
       "      <td>WNEG</td>\n",
       "      <td>DNG</td>\n",
       "      <td>NaN</td>\n",
       "      <td>NaN</td>\n",
       "      <td>3072.0</td>\n",
       "      <td>OCCIDENTAL PETE CORP</td>\n",
       "      <td>674599</td>\n",
       "      <td>BM6</td>\n",
       "      <td>SR DEB</td>\n",
       "      <td>20280401.0</td>\n",
       "      <td>19980402.0</td>\n",
       "    </tr>\n",
       "    <tr>\n",
       "      <th>550</th>\n",
       "      <td>CDEB</td>\n",
       "      <td>674599BM6</td>\n",
       "      <td>71966.0</td>\n",
       "      <td>FR</td>\n",
       "      <td>20200514.0</td>\n",
       "      <td>BB-</td>\n",
       "      <td>WNEG</td>\n",
       "      <td>DNG</td>\n",
       "      <td>NaN</td>\n",
       "      <td>NaN</td>\n",
       "      <td>3072.0</td>\n",
       "      <td>OCCIDENTAL PETE CORP</td>\n",
       "      <td>674599</td>\n",
       "      <td>BM6</td>\n",
       "      <td>SR DEB</td>\n",
       "      <td>20280401.0</td>\n",
       "      <td>19980402.0</td>\n",
       "    </tr>\n",
       "    <tr>\n",
       "      <th>551</th>\n",
       "      <td>CDEB</td>\n",
       "      <td>674599BM6</td>\n",
       "      <td>71966.0</td>\n",
       "      <td>FR</td>\n",
       "      <td>20200625.0</td>\n",
       "      <td>BB</td>\n",
       "      <td>Off</td>\n",
       "      <td>UPG</td>\n",
       "      <td>NaN</td>\n",
       "      <td>N</td>\n",
       "      <td>3072.0</td>\n",
       "      <td>OCCIDENTAL PETE CORP</td>\n",
       "      <td>674599</td>\n",
       "      <td>BM6</td>\n",
       "      <td>SR DEB</td>\n",
       "      <td>20280401.0</td>\n",
       "      <td>19980402.0</td>\n",
       "    </tr>\n",
       "    <tr>\n",
       "      <th>552</th>\n",
       "      <td>CDEB</td>\n",
       "      <td>674599BM6</td>\n",
       "      <td>71966.0</td>\n",
       "      <td>MR</td>\n",
       "      <td>20200318.0</td>\n",
       "      <td>Ba1</td>\n",
       "      <td>WNEG</td>\n",
       "      <td>DNG</td>\n",
       "      <td>NaN</td>\n",
       "      <td>NaN</td>\n",
       "      <td>3072.0</td>\n",
       "      <td>OCCIDENTAL PETE CORP</td>\n",
       "      <td>674599</td>\n",
       "      <td>BM6</td>\n",
       "      <td>SR DEB</td>\n",
       "      <td>20280401.0</td>\n",
       "      <td>19980402.0</td>\n",
       "    </tr>\n",
       "    <tr>\n",
       "      <th>553</th>\n",
       "      <td>CDEB</td>\n",
       "      <td>674599BM6</td>\n",
       "      <td>71966.0</td>\n",
       "      <td>MR</td>\n",
       "      <td>20200625.0</td>\n",
       "      <td>Ba2</td>\n",
       "      <td>WOFF</td>\n",
       "      <td>DNG</td>\n",
       "      <td>20200625.0</td>\n",
       "      <td>N</td>\n",
       "      <td>3072.0</td>\n",
       "      <td>OCCIDENTAL PETE CORP</td>\n",
       "      <td>674599</td>\n",
       "      <td>BM6</td>\n",
       "      <td>SR DEB</td>\n",
       "      <td>20280401.0</td>\n",
       "      <td>19980402.0</td>\n",
       "    </tr>\n",
       "  </tbody>\n",
       "</table>\n",
       "</div>"
      ],
      "text/plain": [
       "    BOND_TYPE COMPLETE_CUSIP  ISSUE_ID RATING_TYPE  RATING_DATE RATING  \\\n",
       "549      CDEB      674599BM6   71966.0          FR   20200320.0    BB+   \n",
       "550      CDEB      674599BM6   71966.0          FR   20200514.0    BB-   \n",
       "551      CDEB      674599BM6   71966.0          FR   20200625.0     BB   \n",
       "552      CDEB      674599BM6   71966.0          MR   20200318.0    Ba1   \n",
       "553      CDEB      674599BM6   71966.0          MR   20200625.0    Ba2   \n",
       "\n",
       "    RATING_STATUS REASON  RATING_STATUS_DATE INVESTMENT_GRADE  ISSUER_ID  \\\n",
       "549          WNEG    DNG                 NaN              NaN     3072.0   \n",
       "550          WNEG    DNG                 NaN              NaN     3072.0   \n",
       "551           Off    UPG                 NaN                N     3072.0   \n",
       "552          WNEG    DNG                 NaN              NaN     3072.0   \n",
       "553          WOFF    DNG          20200625.0                N     3072.0   \n",
       "\n",
       "    PROSPECTUS_ISSUER_NAME ISSUER_CUSIP ISSUE_CUSIP ISSUE_NAME    MATURITY  \\\n",
       "549   OCCIDENTAL PETE CORP       674599         BM6     SR DEB  20280401.0   \n",
       "550   OCCIDENTAL PETE CORP       674599         BM6     SR DEB  20280401.0   \n",
       "551   OCCIDENTAL PETE CORP       674599         BM6     SR DEB  20280401.0   \n",
       "552   OCCIDENTAL PETE CORP       674599         BM6     SR DEB  20280401.0   \n",
       "553   OCCIDENTAL PETE CORP       674599         BM6     SR DEB  20280401.0   \n",
       "\n",
       "     OFFERING_DATE  \n",
       "549     19980402.0  \n",
       "550     19980402.0  \n",
       "551     19980402.0  \n",
       "552     19980402.0  \n",
       "553     19980402.0  "
      ]
     },
     "execution_count": 19,
     "metadata": {},
     "output_type": "execute_result"
    }
   ],
   "source": [
    "occ_mergent=mergent_ratings.query('PROSPECTUS_ISSUER_NAME==\"OCCIDENTAL PETE CORP\"')\n",
    "occ_mergent.head()"
   ]
  },
  {
   "cell_type": "code",
   "execution_count": 18,
   "id": "4d64c757",
   "metadata": {},
   "outputs": [
    {
     "name": "stdout",
     "output_type": "stream",
     "text": [
      "The time to maturity is 30 years\n"
     ]
    }
   ],
   "source": [
    "\n",
    "print(\"The time to maturity is 30 years\")"
   ]
  },
  {
   "cell_type": "code",
   "execution_count": null,
   "id": "d3c02fd5",
   "metadata": {},
   "outputs": [],
   "source": []
  }
 ],
 "metadata": {
  "kernelspec": {
   "display_name": "Python 3 (ipykernel)",
   "language": "python",
   "name": "python3"
  },
  "language_info": {
   "codemirror_mode": {
    "name": "ipython",
    "version": 3
   },
   "file_extension": ".py",
   "mimetype": "text/x-python",
   "name": "python",
   "nbconvert_exporter": "python",
   "pygments_lexer": "ipython3",
   "version": "3.9.7"
  }
 },
 "nbformat": 4,
 "nbformat_minor": 5
}
