{
 "cells": [
  {
   "cell_type": "markdown",
   "id": "bb05ee51",
   "metadata": {},
   "source": [
    "# Prep Notebook 1\n",
    "\n",
    "This optional notebook has a few exercises that can serve as a primer for what to expect in the `Problem Session 1` notebook."
   ]
  },
  {
   "cell_type": "markdown",
   "id": "8945f8d9",
   "metadata": {},
   "source": [
    "##### 1.\n",
    "\n",
    "Import `numpy`, `pandas`, `matplotlib`, and `seaborn`."
   ]
  },
  {
   "cell_type": "code",
   "execution_count": 2,
   "id": "b238c8ae",
   "metadata": {},
   "outputs": [],
   "source": [
    "## code here\n",
    "\n",
    "import numpy as np\n",
    "import pandas as pd\n",
    "import matplotlib\n",
    "import seaborn as sns"
   ]
  },
  {
   "cell_type": "markdown",
   "id": "9ac17f16",
   "metadata": {},
   "source": [
    "##### 2.\n",
    "\n",
    "Write a list comprehension containing the first 5 multiples of 11."
   ]
  },
  {
   "cell_type": "code",
   "execution_count": 3,
   "id": "78438537",
   "metadata": {},
   "outputs": [
    {
     "data": {
      "text/plain": [
       "[11, 22, 33, 44, 55]"
      ]
     },
     "execution_count": 3,
     "metadata": {},
     "output_type": "execute_result"
    }
   ],
   "source": [
    "## code here\n",
    "\n",
    "[11*i for i in range(1,6)]"
   ]
  },
  {
   "cell_type": "markdown",
   "id": "838394b0",
   "metadata": {},
   "source": [
    "##### 3.\n",
    "\n",
    "Write a while loop that prints each number from 1 to 7."
   ]
  },
  {
   "cell_type": "code",
   "execution_count": 4,
   "id": "b7c8dafd",
   "metadata": {},
   "outputs": [
    {
     "name": "stdout",
     "output_type": "stream",
     "text": [
      "1\n",
      "2\n",
      "3\n",
      "4\n",
      "5\n",
      "6\n",
      "7\n"
     ]
    }
   ],
   "source": [
    "## code here\n",
    "\n",
    "i = 1\n",
    "while i < 8:\n",
    "    print(i)\n",
    "    i = i +1\n"
   ]
  },
  {
   "cell_type": "markdown",
   "id": "4ce9aa5c",
   "metadata": {},
   "source": [
    "##### 4.\n",
    "\n",
    "Use the `type` function to check the types of `a`, `b`, and `c` below."
   ]
  },
  {
   "cell_type": "code",
   "execution_count": 6,
   "id": "496758a8",
   "metadata": {},
   "outputs": [],
   "source": [
    "a = 1\n",
    "b = [1,2,3,4]\n",
    "c = \"hello\""
   ]
  },
  {
   "cell_type": "code",
   "execution_count": 7,
   "id": "f98b23e1",
   "metadata": {},
   "outputs": [
    {
     "data": {
      "text/plain": [
       "int"
      ]
     },
     "execution_count": 7,
     "metadata": {},
     "output_type": "execute_result"
    }
   ],
   "source": [
    "## code here\n",
    "type(a)\n"
   ]
  },
  {
   "cell_type": "code",
   "execution_count": 8,
   "id": "7231a074",
   "metadata": {},
   "outputs": [
    {
     "data": {
      "text/plain": [
       "list"
      ]
     },
     "execution_count": 8,
     "metadata": {},
     "output_type": "execute_result"
    }
   ],
   "source": [
    "## code here\n",
    "\n",
    "type(b)"
   ]
  },
  {
   "cell_type": "code",
   "execution_count": 9,
   "id": "9a17803e",
   "metadata": {},
   "outputs": [
    {
     "data": {
      "text/plain": [
       "str"
      ]
     },
     "execution_count": 9,
     "metadata": {},
     "output_type": "execute_result"
    }
   ],
   "source": [
    "## code here\n",
    "\n",
    "type(c)"
   ]
  },
  {
   "cell_type": "markdown",
   "id": "dcd9f30a",
   "metadata": {},
   "source": [
    "##### 5.\n",
    "\n",
    "Write a function that takes in a number and prints it."
   ]
  },
  {
   "cell_type": "code",
   "execution_count": 16,
   "id": "def35ce9",
   "metadata": {},
   "outputs": [],
   "source": [
    "## code here\n",
    "def print_number(a):\n",
    "    print(a)"
   ]
  },
  {
   "cell_type": "code",
   "execution_count": 17,
   "id": "728ca065",
   "metadata": {},
   "outputs": [
    {
     "name": "stdout",
     "output_type": "stream",
     "text": [
      "25\n"
     ]
    }
   ],
   "source": [
    "## code here\n",
    "\n",
    "print_number(25)"
   ]
  },
  {
   "cell_type": "markdown",
   "id": "b14e32ef",
   "metadata": {},
   "source": [
    "--------------------------\n",
    "\n",
    "This notebook was written for the Erd&#337;s Institute C&#337;de Data Science Boot Camp by Matthew Osborne, Ph. D., 2023.\n",
    "\n",
    "Any potential redistributors must seek and receive permission from Matthew Tyler Osborne, Ph.D. prior to redistribution. Redistribution of the material contained in this repository is conditional on acknowledgement of Matthew Tyler Osborne, Ph.D.'s original authorship and sponsorship of the Erdős Institute as subject to the license (see License.md)"
   ]
  },
  {
   "cell_type": "code",
   "execution_count": null,
   "id": "e3689a12",
   "metadata": {},
   "outputs": [],
   "source": []
  }
 ],
 "metadata": {
  "kernelspec": {
   "display_name": "Python 3 (ipykernel)",
   "language": "python",
   "name": "python3"
  },
  "language_info": {
   "codemirror_mode": {
    "name": "ipython",
    "version": 3
   },
   "file_extension": ".py",
   "mimetype": "text/x-python",
   "name": "python",
   "nbconvert_exporter": "python",
   "pygments_lexer": "ipython3",
   "version": "3.11.5"
  }
 },
 "nbformat": 4,
 "nbformat_minor": 5
}
